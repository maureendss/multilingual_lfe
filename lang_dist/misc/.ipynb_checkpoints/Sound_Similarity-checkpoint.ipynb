{
 "cells": [
  {
   "cell_type": "markdown",
   "id": "peripheral-russian",
   "metadata": {},
   "source": [
    "*Notebook adapted from https://camtsmith.com/articles/2021-03/language-similarity*\n",
    "\n",
    "Main change is that I'm using ISO393 instead of Langiage Name to request distances"
   ]
  },
  {
   "cell_type": "markdown",
   "id": "psychological-reality",
   "metadata": {},
   "source": [
    "# Sound Similarity\n",
    "\n",
    "In this notebook I create an algorithm to determine which languages sound most like one another. The results are interesting. If you'd like to read a condensed version, there's [a blog post](https://camtsmith.com/articles/2021-03/language-similarity).\n",
    "\n",
    "\n",
    "## Preliminaries\n",
    "\n",
    "Phonemes are the sounds that occur in a language. For instance, /kʰ/ is the first sound in the English word _king_, and /ŋ/ is the sound of _ng_. [The International Phonetic Alphabet](https://en.wikipedia.org/wiki/International_Phonetic_Alphabet) is the system that linguists use to transcribe the sounds of words - it lets us escape all the messiness of a particular language's spelling rules. In IPA, we'd transcribe the word \"king\" as /kʰɪŋ/. As you may have already noticed, linguists put IPA transcriptions inside of forward /slæʃɪz/.\n",
    "\n",
    "You can compare the sounds in different languages by simply counting which phonemes overlap. This is one of the methods that I employ below. However, when you look at the consonant chart in the IPA, you'll realize that just like words can be broken down into individual speech sounds, speech sounds themselves can be defined as combinations of a _place of articulation_ and a _manner of articulation_. For instance, the sound /kʰ/ is a _velar plosive_ - your tongue makes contact with the __velum__ in your mouth, and the sound __explodes__ outwards -- place of articulation: velar; manner of articulation: plosive. Speech sounds also have other features, like voicing (whether your vocal cords vibrate) - /kʰ/ is voiceless, but /g/ is its voiced counterpart. In fact, there are 38 phoneme features tracked by phoible, and I make use of them all.\n",
    "\n",
    "What this means is that in addition to treating phonemes discretely, we can also break them down into their constituent attributes to get a more fine-grained measure of similarity. For instance /kʰ/ is more similar to /k/ than to /m/ (a bilabial nasal sound). I use both strategies when developing metrics.  I'll be experimenting with a _vector space model_ where I use all of these features.\n",
    "\n",
    "Most of the data I'm using is from [Phoible](https://phoible.org/), so you can head over there and thank them. I've also made use of [WALS](https://wals.info/) for some rough exploratory research and [Glottolog](https://glottolog.org/) for information about language families 😃\n",
    "\n",
    "In this notebook, I'll first acquire some data and explore it. Then I'll experiment with some similarity metrics. I'll choose a metric and perform some evaluations on it. Finally, I'll wrap everything up and talk about what sound similarity tells us about the English language."
   ]
  },
  {
   "cell_type": "markdown",
   "id": "chicken-preparation",
   "metadata": {},
   "source": [
    "## Data Acquisition\n",
    "\n",
    "In this section, I download the Phoible dataset and get it into a format that's easy to work with. I then load it into a dataframe to show you what the data looks like."
   ]
  },
  {
   "cell_type": "code",
   "execution_count": 5,
   "id": "european-reserve",
   "metadata": {},
   "outputs": [
    {
     "name": "stdout",
     "output_type": "stream",
     "text": [
      "  % Total    % Received % Xferd  Average Speed   Time    Time     Time  Current\n",
      "                                 Dload  Upload   Total   Spent    Left  Speed\n",
      "100 23.0M  100 23.0M    0     0  1627k      0  0:00:14  0:00:14 --:--:-- 1927k\n"
     ]
    }
   ],
   "source": [
    "! curl https://raw.githubusercontent.com/phoible/dev/master/data/phoible.csv > phoible.csv"
   ]
  },
  {
   "cell_type": "code",
   "execution_count": 6,
   "id": "suspected-potter",
   "metadata": {},
   "outputs": [],
   "source": [
    "! mkdir -p data"
   ]
  },
  {
   "cell_type": "code",
   "execution_count": 7,
   "id": "iraqi-hypothetical",
   "metadata": {},
   "outputs": [],
   "source": [
    "! mv phoible.csv data/"
   ]
  },
  {
   "cell_type": "code",
   "execution_count": 8,
   "id": "informational-weekly",
   "metadata": {},
   "outputs": [],
   "source": [
    "import pandas as pd"
   ]
  },
  {
   "cell_type": "code",
   "execution_count": 10,
   "id": "nonprofit-advertiser",
   "metadata": {},
   "outputs": [
    {
     "name": "stderr",
     "output_type": "stream",
     "text": [
      "/home/maureen/anaconda3/lib/python3.7/site-packages/IPython/core/interactiveshell.py:3147: DtypeWarning: Columns (4,7,8,11) have mixed types.Specify dtype option on import or set low_memory=False.\n",
      "  interactivity=interactivity, compiler=compiler, result=result)\n"
     ]
    }
   ],
   "source": [
    "df = pd.read_csv(\"data/phoible.csv\")"
   ]
  },
  {
   "cell_type": "code",
   "execution_count": 11,
   "id": "governing-wildlife",
   "metadata": {},
   "outputs": [
    {
     "data": {
      "text/html": [
       "<div>\n",
       "<style scoped>\n",
       "    .dataframe tbody tr th:only-of-type {\n",
       "        vertical-align: middle;\n",
       "    }\n",
       "\n",
       "    .dataframe tbody tr th {\n",
       "        vertical-align: top;\n",
       "    }\n",
       "\n",
       "    .dataframe thead th {\n",
       "        text-align: right;\n",
       "    }\n",
       "</style>\n",
       "<table border=\"1\" class=\"dataframe\">\n",
       "  <thead>\n",
       "    <tr style=\"text-align: right;\">\n",
       "      <th></th>\n",
       "      <th>InventoryID</th>\n",
       "      <th>Glottocode</th>\n",
       "      <th>ISO6393</th>\n",
       "      <th>LanguageName</th>\n",
       "      <th>SpecificDialect</th>\n",
       "      <th>GlyphID</th>\n",
       "      <th>Phoneme</th>\n",
       "      <th>Allophones</th>\n",
       "      <th>Marginal</th>\n",
       "      <th>SegmentClass</th>\n",
       "      <th>...</th>\n",
       "      <th>retractedTongueRoot</th>\n",
       "      <th>advancedTongueRoot</th>\n",
       "      <th>periodicGlottalSource</th>\n",
       "      <th>epilaryngealSource</th>\n",
       "      <th>spreadGlottis</th>\n",
       "      <th>constrictedGlottis</th>\n",
       "      <th>fortis</th>\n",
       "      <th>raisedLarynxEjective</th>\n",
       "      <th>loweredLarynxImplosive</th>\n",
       "      <th>click</th>\n",
       "    </tr>\n",
       "  </thead>\n",
       "  <tbody>\n",
       "    <tr>\n",
       "      <th>0</th>\n",
       "      <td>1</td>\n",
       "      <td>kore1280</td>\n",
       "      <td>kor</td>\n",
       "      <td>Korean</td>\n",
       "      <td>NaN</td>\n",
       "      <td>0068</td>\n",
       "      <td>h</td>\n",
       "      <td>ç h ɦ</td>\n",
       "      <td>NaN</td>\n",
       "      <td>consonant</td>\n",
       "      <td>...</td>\n",
       "      <td>0</td>\n",
       "      <td>0</td>\n",
       "      <td>-</td>\n",
       "      <td>-</td>\n",
       "      <td>+</td>\n",
       "      <td>-</td>\n",
       "      <td>-</td>\n",
       "      <td>-</td>\n",
       "      <td>-</td>\n",
       "      <td>-</td>\n",
       "    </tr>\n",
       "    <tr>\n",
       "      <th>1</th>\n",
       "      <td>1</td>\n",
       "      <td>kore1280</td>\n",
       "      <td>kor</td>\n",
       "      <td>Korean</td>\n",
       "      <td>NaN</td>\n",
       "      <td>006A</td>\n",
       "      <td>j</td>\n",
       "      <td>j</td>\n",
       "      <td>NaN</td>\n",
       "      <td>consonant</td>\n",
       "      <td>...</td>\n",
       "      <td>0</td>\n",
       "      <td>0</td>\n",
       "      <td>+</td>\n",
       "      <td>-</td>\n",
       "      <td>-</td>\n",
       "      <td>-</td>\n",
       "      <td>-</td>\n",
       "      <td>-</td>\n",
       "      <td>-</td>\n",
       "      <td>-</td>\n",
       "    </tr>\n",
       "    <tr>\n",
       "      <th>2</th>\n",
       "      <td>1</td>\n",
       "      <td>kore1280</td>\n",
       "      <td>kor</td>\n",
       "      <td>Korean</td>\n",
       "      <td>NaN</td>\n",
       "      <td>006B</td>\n",
       "      <td>k</td>\n",
       "      <td>k̚ ɡ k</td>\n",
       "      <td>NaN</td>\n",
       "      <td>consonant</td>\n",
       "      <td>...</td>\n",
       "      <td>0</td>\n",
       "      <td>0</td>\n",
       "      <td>-</td>\n",
       "      <td>-</td>\n",
       "      <td>-</td>\n",
       "      <td>-</td>\n",
       "      <td>-</td>\n",
       "      <td>-</td>\n",
       "      <td>-</td>\n",
       "      <td>-</td>\n",
       "    </tr>\n",
       "    <tr>\n",
       "      <th>3</th>\n",
       "      <td>1</td>\n",
       "      <td>kore1280</td>\n",
       "      <td>kor</td>\n",
       "      <td>Korean</td>\n",
       "      <td>NaN</td>\n",
       "      <td>006B+02B0</td>\n",
       "      <td>kʰ</td>\n",
       "      <td>kʰ</td>\n",
       "      <td>NaN</td>\n",
       "      <td>consonant</td>\n",
       "      <td>...</td>\n",
       "      <td>0</td>\n",
       "      <td>0</td>\n",
       "      <td>-</td>\n",
       "      <td>-</td>\n",
       "      <td>+</td>\n",
       "      <td>-</td>\n",
       "      <td>-</td>\n",
       "      <td>-</td>\n",
       "      <td>-</td>\n",
       "      <td>-</td>\n",
       "    </tr>\n",
       "    <tr>\n",
       "      <th>4</th>\n",
       "      <td>1</td>\n",
       "      <td>kore1280</td>\n",
       "      <td>kor</td>\n",
       "      <td>Korean</td>\n",
       "      <td>NaN</td>\n",
       "      <td>006B+02C0</td>\n",
       "      <td>kˀ</td>\n",
       "      <td>kˀ</td>\n",
       "      <td>NaN</td>\n",
       "      <td>consonant</td>\n",
       "      <td>...</td>\n",
       "      <td>0</td>\n",
       "      <td>0</td>\n",
       "      <td>-</td>\n",
       "      <td>-</td>\n",
       "      <td>-</td>\n",
       "      <td>+</td>\n",
       "      <td>-</td>\n",
       "      <td>-</td>\n",
       "      <td>-</td>\n",
       "      <td>-</td>\n",
       "    </tr>\n",
       "  </tbody>\n",
       "</table>\n",
       "<p>5 rows × 48 columns</p>\n",
       "</div>"
      ],
      "text/plain": [
       "   InventoryID Glottocode ISO6393 LanguageName SpecificDialect    GlyphID  \\\n",
       "0            1   kore1280     kor       Korean             NaN       0068   \n",
       "1            1   kore1280     kor       Korean             NaN       006A   \n",
       "2            1   kore1280     kor       Korean             NaN       006B   \n",
       "3            1   kore1280     kor       Korean             NaN  006B+02B0   \n",
       "4            1   kore1280     kor       Korean             NaN  006B+02C0   \n",
       "\n",
       "  Phoneme Allophones Marginal SegmentClass  ... retractedTongueRoot  \\\n",
       "0       h      ç h ɦ      NaN    consonant  ...                   0   \n",
       "1       j          j      NaN    consonant  ...                   0   \n",
       "2       k     k̚ ɡ k      NaN    consonant  ...                   0   \n",
       "3      kʰ         kʰ      NaN    consonant  ...                   0   \n",
       "4      kˀ         kˀ      NaN    consonant  ...                   0   \n",
       "\n",
       "  advancedTongueRoot periodicGlottalSource epilaryngealSource spreadGlottis  \\\n",
       "0                  0                     -                  -             +   \n",
       "1                  0                     +                  -             -   \n",
       "2                  0                     -                  -             -   \n",
       "3                  0                     -                  -             +   \n",
       "4                  0                     -                  -             -   \n",
       "\n",
       "  constrictedGlottis fortis raisedLarynxEjective loweredLarynxImplosive click  \n",
       "0                  -      -                    -                      -     -  \n",
       "1                  -      -                    -                      -     -  \n",
       "2                  -      -                    -                      -     -  \n",
       "3                  -      -                    -                      -     -  \n",
       "4                  +      -                    -                      -     -  \n",
       "\n",
       "[5 rows x 48 columns]"
      ]
     },
     "execution_count": 11,
     "metadata": {},
     "output_type": "execute_result"
    }
   ],
   "source": [
    "df.head()"
   ]
  },
  {
   "cell_type": "code",
   "execution_count": 93,
   "id": "handed-portsmouth",
   "metadata": {},
   "outputs": [
    {
     "data": {
      "text/html": [
       "<div>\n",
       "<style scoped>\n",
       "    .dataframe tbody tr th:only-of-type {\n",
       "        vertical-align: middle;\n",
       "    }\n",
       "\n",
       "    .dataframe tbody tr th {\n",
       "        vertical-align: top;\n",
       "    }\n",
       "\n",
       "    .dataframe thead th {\n",
       "        text-align: right;\n",
       "    }\n",
       "</style>\n",
       "<table border=\"1\" class=\"dataframe\">\n",
       "  <thead>\n",
       "    <tr style=\"text-align: right;\">\n",
       "      <th></th>\n",
       "      <th>InventoryID</th>\n",
       "      <th>Glottocode</th>\n",
       "      <th>ISO6393</th>\n",
       "      <th>LanguageName</th>\n",
       "      <th>SpecificDialect</th>\n",
       "      <th>GlyphID</th>\n",
       "      <th>Phoneme</th>\n",
       "      <th>Allophones</th>\n",
       "      <th>Marginal</th>\n",
       "      <th>SegmentClass</th>\n",
       "      <th>...</th>\n",
       "      <th>retractedTongueRoot</th>\n",
       "      <th>advancedTongueRoot</th>\n",
       "      <th>periodicGlottalSource</th>\n",
       "      <th>epilaryngealSource</th>\n",
       "      <th>spreadGlottis</th>\n",
       "      <th>constrictedGlottis</th>\n",
       "      <th>fortis</th>\n",
       "      <th>raisedLarynxEjective</th>\n",
       "      <th>loweredLarynxImplosive</th>\n",
       "      <th>click</th>\n",
       "    </tr>\n",
       "  </thead>\n",
       "  <tbody>\n",
       "    <tr>\n",
       "      <th>91124</th>\n",
       "      <td>2520</td>\n",
       "      <td>west2369</td>\n",
       "      <td>pes</td>\n",
       "      <td>Farsi</td>\n",
       "      <td>NaN</td>\n",
       "      <td>0062</td>\n",
       "      <td>b</td>\n",
       "      <td>NaN</td>\n",
       "      <td>False</td>\n",
       "      <td>consonant</td>\n",
       "      <td>...</td>\n",
       "      <td>0</td>\n",
       "      <td>0</td>\n",
       "      <td>+</td>\n",
       "      <td>-</td>\n",
       "      <td>-</td>\n",
       "      <td>-</td>\n",
       "      <td>-</td>\n",
       "      <td>-</td>\n",
       "      <td>-</td>\n",
       "      <td>-</td>\n",
       "    </tr>\n",
       "    <tr>\n",
       "      <th>91125</th>\n",
       "      <td>2520</td>\n",
       "      <td>west2369</td>\n",
       "      <td>pes</td>\n",
       "      <td>Farsi</td>\n",
       "      <td>NaN</td>\n",
       "      <td>0064</td>\n",
       "      <td>d</td>\n",
       "      <td>NaN</td>\n",
       "      <td>False</td>\n",
       "      <td>consonant</td>\n",
       "      <td>...</td>\n",
       "      <td>0</td>\n",
       "      <td>0</td>\n",
       "      <td>+</td>\n",
       "      <td>-</td>\n",
       "      <td>-</td>\n",
       "      <td>-</td>\n",
       "      <td>-</td>\n",
       "      <td>-</td>\n",
       "      <td>-</td>\n",
       "      <td>-</td>\n",
       "    </tr>\n",
       "    <tr>\n",
       "      <th>91126</th>\n",
       "      <td>2520</td>\n",
       "      <td>west2369</td>\n",
       "      <td>pes</td>\n",
       "      <td>Farsi</td>\n",
       "      <td>NaN</td>\n",
       "      <td>0064+0320+0292</td>\n",
       "      <td>d̠ʒ</td>\n",
       "      <td>NaN</td>\n",
       "      <td>False</td>\n",
       "      <td>consonant</td>\n",
       "      <td>...</td>\n",
       "      <td>0</td>\n",
       "      <td>0</td>\n",
       "      <td>+</td>\n",
       "      <td>-</td>\n",
       "      <td>-</td>\n",
       "      <td>-</td>\n",
       "      <td>-</td>\n",
       "      <td>-</td>\n",
       "      <td>-</td>\n",
       "      <td>-</td>\n",
       "    </tr>\n",
       "    <tr>\n",
       "      <th>91127</th>\n",
       "      <td>2520</td>\n",
       "      <td>west2369</td>\n",
       "      <td>pes</td>\n",
       "      <td>Farsi</td>\n",
       "      <td>NaN</td>\n",
       "      <td>0066</td>\n",
       "      <td>f</td>\n",
       "      <td>NaN</td>\n",
       "      <td>False</td>\n",
       "      <td>consonant</td>\n",
       "      <td>...</td>\n",
       "      <td>0</td>\n",
       "      <td>0</td>\n",
       "      <td>-</td>\n",
       "      <td>-</td>\n",
       "      <td>-</td>\n",
       "      <td>-</td>\n",
       "      <td>-</td>\n",
       "      <td>-</td>\n",
       "      <td>-</td>\n",
       "      <td>-</td>\n",
       "    </tr>\n",
       "    <tr>\n",
       "      <th>91128</th>\n",
       "      <td>2520</td>\n",
       "      <td>west2369</td>\n",
       "      <td>pes</td>\n",
       "      <td>Farsi</td>\n",
       "      <td>NaN</td>\n",
       "      <td>0068</td>\n",
       "      <td>h</td>\n",
       "      <td>NaN</td>\n",
       "      <td>False</td>\n",
       "      <td>consonant</td>\n",
       "      <td>...</td>\n",
       "      <td>0</td>\n",
       "      <td>0</td>\n",
       "      <td>-</td>\n",
       "      <td>-</td>\n",
       "      <td>+</td>\n",
       "      <td>-</td>\n",
       "      <td>-</td>\n",
       "      <td>-</td>\n",
       "      <td>-</td>\n",
       "      <td>-</td>\n",
       "    </tr>\n",
       "    <tr>\n",
       "      <th>91129</th>\n",
       "      <td>2520</td>\n",
       "      <td>west2369</td>\n",
       "      <td>pes</td>\n",
       "      <td>Farsi</td>\n",
       "      <td>NaN</td>\n",
       "      <td>006A</td>\n",
       "      <td>j</td>\n",
       "      <td>NaN</td>\n",
       "      <td>False</td>\n",
       "      <td>consonant</td>\n",
       "      <td>...</td>\n",
       "      <td>0</td>\n",
       "      <td>0</td>\n",
       "      <td>+</td>\n",
       "      <td>-</td>\n",
       "      <td>-</td>\n",
       "      <td>-</td>\n",
       "      <td>-</td>\n",
       "      <td>-</td>\n",
       "      <td>-</td>\n",
       "      <td>-</td>\n",
       "    </tr>\n",
       "    <tr>\n",
       "      <th>91130</th>\n",
       "      <td>2520</td>\n",
       "      <td>west2369</td>\n",
       "      <td>pes</td>\n",
       "      <td>Farsi</td>\n",
       "      <td>NaN</td>\n",
       "      <td>006B+02B0</td>\n",
       "      <td>kʰ</td>\n",
       "      <td>NaN</td>\n",
       "      <td>False</td>\n",
       "      <td>consonant</td>\n",
       "      <td>...</td>\n",
       "      <td>0</td>\n",
       "      <td>0</td>\n",
       "      <td>-</td>\n",
       "      <td>-</td>\n",
       "      <td>+</td>\n",
       "      <td>-</td>\n",
       "      <td>-</td>\n",
       "      <td>-</td>\n",
       "      <td>-</td>\n",
       "      <td>-</td>\n",
       "    </tr>\n",
       "    <tr>\n",
       "      <th>91131</th>\n",
       "      <td>2520</td>\n",
       "      <td>west2369</td>\n",
       "      <td>pes</td>\n",
       "      <td>Farsi</td>\n",
       "      <td>NaN</td>\n",
       "      <td>006C+032A</td>\n",
       "      <td>l̪</td>\n",
       "      <td>NaN</td>\n",
       "      <td>False</td>\n",
       "      <td>consonant</td>\n",
       "      <td>...</td>\n",
       "      <td>0</td>\n",
       "      <td>0</td>\n",
       "      <td>+</td>\n",
       "      <td>-</td>\n",
       "      <td>-</td>\n",
       "      <td>-</td>\n",
       "      <td>-</td>\n",
       "      <td>-</td>\n",
       "      <td>-</td>\n",
       "      <td>-</td>\n",
       "    </tr>\n",
       "    <tr>\n",
       "      <th>91132</th>\n",
       "      <td>2520</td>\n",
       "      <td>west2369</td>\n",
       "      <td>pes</td>\n",
       "      <td>Farsi</td>\n",
       "      <td>NaN</td>\n",
       "      <td>006D</td>\n",
       "      <td>m</td>\n",
       "      <td>NaN</td>\n",
       "      <td>False</td>\n",
       "      <td>consonant</td>\n",
       "      <td>...</td>\n",
       "      <td>0</td>\n",
       "      <td>0</td>\n",
       "      <td>+</td>\n",
       "      <td>-</td>\n",
       "      <td>-</td>\n",
       "      <td>-</td>\n",
       "      <td>-</td>\n",
       "      <td>-</td>\n",
       "      <td>-</td>\n",
       "      <td>-</td>\n",
       "    </tr>\n",
       "    <tr>\n",
       "      <th>91133</th>\n",
       "      <td>2520</td>\n",
       "      <td>west2369</td>\n",
       "      <td>pes</td>\n",
       "      <td>Farsi</td>\n",
       "      <td>NaN</td>\n",
       "      <td>006E</td>\n",
       "      <td>n</td>\n",
       "      <td>NaN</td>\n",
       "      <td>False</td>\n",
       "      <td>consonant</td>\n",
       "      <td>...</td>\n",
       "      <td>0</td>\n",
       "      <td>0</td>\n",
       "      <td>+</td>\n",
       "      <td>-</td>\n",
       "      <td>-</td>\n",
       "      <td>-</td>\n",
       "      <td>-</td>\n",
       "      <td>-</td>\n",
       "      <td>-</td>\n",
       "      <td>-</td>\n",
       "    </tr>\n",
       "    <tr>\n",
       "      <th>91134</th>\n",
       "      <td>2520</td>\n",
       "      <td>west2369</td>\n",
       "      <td>pes</td>\n",
       "      <td>Farsi</td>\n",
       "      <td>NaN</td>\n",
       "      <td>0070+02B0</td>\n",
       "      <td>pʰ</td>\n",
       "      <td>NaN</td>\n",
       "      <td>False</td>\n",
       "      <td>consonant</td>\n",
       "      <td>...</td>\n",
       "      <td>0</td>\n",
       "      <td>0</td>\n",
       "      <td>-</td>\n",
       "      <td>-</td>\n",
       "      <td>+</td>\n",
       "      <td>-</td>\n",
       "      <td>-</td>\n",
       "      <td>-</td>\n",
       "      <td>-</td>\n",
       "      <td>-</td>\n",
       "    </tr>\n",
       "    <tr>\n",
       "      <th>91135</th>\n",
       "      <td>2520</td>\n",
       "      <td>west2369</td>\n",
       "      <td>pes</td>\n",
       "      <td>Farsi</td>\n",
       "      <td>NaN</td>\n",
       "      <td>0072+032A</td>\n",
       "      <td>r̪</td>\n",
       "      <td>NaN</td>\n",
       "      <td>False</td>\n",
       "      <td>consonant</td>\n",
       "      <td>...</td>\n",
       "      <td>0</td>\n",
       "      <td>0</td>\n",
       "      <td>+</td>\n",
       "      <td>-</td>\n",
       "      <td>-</td>\n",
       "      <td>-</td>\n",
       "      <td>-</td>\n",
       "      <td>-</td>\n",
       "      <td>-</td>\n",
       "      <td>-</td>\n",
       "    </tr>\n",
       "    <tr>\n",
       "      <th>91136</th>\n",
       "      <td>2520</td>\n",
       "      <td>west2369</td>\n",
       "      <td>pes</td>\n",
       "      <td>Farsi</td>\n",
       "      <td>NaN</td>\n",
       "      <td>0073</td>\n",
       "      <td>s</td>\n",
       "      <td>NaN</td>\n",
       "      <td>False</td>\n",
       "      <td>consonant</td>\n",
       "      <td>...</td>\n",
       "      <td>0</td>\n",
       "      <td>0</td>\n",
       "      <td>-</td>\n",
       "      <td>-</td>\n",
       "      <td>-</td>\n",
       "      <td>-</td>\n",
       "      <td>-</td>\n",
       "      <td>-</td>\n",
       "      <td>-</td>\n",
       "      <td>-</td>\n",
       "    </tr>\n",
       "    <tr>\n",
       "      <th>91137</th>\n",
       "      <td>2520</td>\n",
       "      <td>west2369</td>\n",
       "      <td>pes</td>\n",
       "      <td>Farsi</td>\n",
       "      <td>NaN</td>\n",
       "      <td>0074+02B0</td>\n",
       "      <td>tʰ</td>\n",
       "      <td>NaN</td>\n",
       "      <td>False</td>\n",
       "      <td>consonant</td>\n",
       "      <td>...</td>\n",
       "      <td>0</td>\n",
       "      <td>0</td>\n",
       "      <td>-</td>\n",
       "      <td>-</td>\n",
       "      <td>+</td>\n",
       "      <td>-</td>\n",
       "      <td>-</td>\n",
       "      <td>-</td>\n",
       "      <td>-</td>\n",
       "      <td>-</td>\n",
       "    </tr>\n",
       "    <tr>\n",
       "      <th>91138</th>\n",
       "      <td>2520</td>\n",
       "      <td>west2369</td>\n",
       "      <td>pes</td>\n",
       "      <td>Farsi</td>\n",
       "      <td>NaN</td>\n",
       "      <td>0074+0320+0283+02B0</td>\n",
       "      <td>t̠ʃʰ</td>\n",
       "      <td>NaN</td>\n",
       "      <td>False</td>\n",
       "      <td>consonant</td>\n",
       "      <td>...</td>\n",
       "      <td>0</td>\n",
       "      <td>0</td>\n",
       "      <td>-</td>\n",
       "      <td>-</td>\n",
       "      <td>+</td>\n",
       "      <td>-</td>\n",
       "      <td>-</td>\n",
       "      <td>-</td>\n",
       "      <td>-</td>\n",
       "      <td>-</td>\n",
       "    </tr>\n",
       "    <tr>\n",
       "      <th>91139</th>\n",
       "      <td>2520</td>\n",
       "      <td>west2369</td>\n",
       "      <td>pes</td>\n",
       "      <td>Farsi</td>\n",
       "      <td>NaN</td>\n",
       "      <td>0076</td>\n",
       "      <td>v</td>\n",
       "      <td>NaN</td>\n",
       "      <td>False</td>\n",
       "      <td>consonant</td>\n",
       "      <td>...</td>\n",
       "      <td>0</td>\n",
       "      <td>0</td>\n",
       "      <td>+</td>\n",
       "      <td>-</td>\n",
       "      <td>-</td>\n",
       "      <td>-</td>\n",
       "      <td>-</td>\n",
       "      <td>-</td>\n",
       "      <td>-</td>\n",
       "      <td>-</td>\n",
       "    </tr>\n",
       "    <tr>\n",
       "      <th>91140</th>\n",
       "      <td>2520</td>\n",
       "      <td>west2369</td>\n",
       "      <td>pes</td>\n",
       "      <td>Farsi</td>\n",
       "      <td>NaN</td>\n",
       "      <td>007A</td>\n",
       "      <td>z</td>\n",
       "      <td>NaN</td>\n",
       "      <td>False</td>\n",
       "      <td>consonant</td>\n",
       "      <td>...</td>\n",
       "      <td>0</td>\n",
       "      <td>0</td>\n",
       "      <td>+</td>\n",
       "      <td>-</td>\n",
       "      <td>-</td>\n",
       "      <td>-</td>\n",
       "      <td>-</td>\n",
       "      <td>-</td>\n",
       "      <td>-</td>\n",
       "      <td>-</td>\n",
       "    </tr>\n",
       "    <tr>\n",
       "      <th>91141</th>\n",
       "      <td>2520</td>\n",
       "      <td>west2369</td>\n",
       "      <td>pes</td>\n",
       "      <td>Farsi</td>\n",
       "      <td>NaN</td>\n",
       "      <td>0261</td>\n",
       "      <td>ɡ</td>\n",
       "      <td>NaN</td>\n",
       "      <td>False</td>\n",
       "      <td>consonant</td>\n",
       "      <td>...</td>\n",
       "      <td>0</td>\n",
       "      <td>0</td>\n",
       "      <td>+</td>\n",
       "      <td>-</td>\n",
       "      <td>-</td>\n",
       "      <td>-</td>\n",
       "      <td>-</td>\n",
       "      <td>-</td>\n",
       "      <td>-</td>\n",
       "      <td>-</td>\n",
       "    </tr>\n",
       "    <tr>\n",
       "      <th>91142</th>\n",
       "      <td>2520</td>\n",
       "      <td>west2369</td>\n",
       "      <td>pes</td>\n",
       "      <td>Farsi</td>\n",
       "      <td>NaN</td>\n",
       "      <td>0262+0281</td>\n",
       "      <td>ɢʁ</td>\n",
       "      <td>NaN</td>\n",
       "      <td>False</td>\n",
       "      <td>consonant</td>\n",
       "      <td>...</td>\n",
       "      <td>0</td>\n",
       "      <td>0</td>\n",
       "      <td>+</td>\n",
       "      <td>-</td>\n",
       "      <td>-</td>\n",
       "      <td>-</td>\n",
       "      <td>-</td>\n",
       "      <td>-</td>\n",
       "      <td>-</td>\n",
       "      <td>-</td>\n",
       "    </tr>\n",
       "    <tr>\n",
       "      <th>91143</th>\n",
       "      <td>2520</td>\n",
       "      <td>west2369</td>\n",
       "      <td>pes</td>\n",
       "      <td>Farsi</td>\n",
       "      <td>NaN</td>\n",
       "      <td>0283</td>\n",
       "      <td>ʃ</td>\n",
       "      <td>NaN</td>\n",
       "      <td>False</td>\n",
       "      <td>consonant</td>\n",
       "      <td>...</td>\n",
       "      <td>0</td>\n",
       "      <td>0</td>\n",
       "      <td>-</td>\n",
       "      <td>-</td>\n",
       "      <td>-</td>\n",
       "      <td>-</td>\n",
       "      <td>-</td>\n",
       "      <td>-</td>\n",
       "      <td>-</td>\n",
       "      <td>-</td>\n",
       "    </tr>\n",
       "    <tr>\n",
       "      <th>91144</th>\n",
       "      <td>2520</td>\n",
       "      <td>west2369</td>\n",
       "      <td>pes</td>\n",
       "      <td>Farsi</td>\n",
       "      <td>NaN</td>\n",
       "      <td>0292</td>\n",
       "      <td>ʒ</td>\n",
       "      <td>NaN</td>\n",
       "      <td>False</td>\n",
       "      <td>consonant</td>\n",
       "      <td>...</td>\n",
       "      <td>0</td>\n",
       "      <td>0</td>\n",
       "      <td>+</td>\n",
       "      <td>-</td>\n",
       "      <td>-</td>\n",
       "      <td>-</td>\n",
       "      <td>-</td>\n",
       "      <td>-</td>\n",
       "      <td>-</td>\n",
       "      <td>-</td>\n",
       "    </tr>\n",
       "    <tr>\n",
       "      <th>91145</th>\n",
       "      <td>2520</td>\n",
       "      <td>west2369</td>\n",
       "      <td>pes</td>\n",
       "      <td>Farsi</td>\n",
       "      <td>NaN</td>\n",
       "      <td>0294</td>\n",
       "      <td>ʔ</td>\n",
       "      <td>NaN</td>\n",
       "      <td>False</td>\n",
       "      <td>consonant</td>\n",
       "      <td>...</td>\n",
       "      <td>0</td>\n",
       "      <td>0</td>\n",
       "      <td>-</td>\n",
       "      <td>-</td>\n",
       "      <td>-</td>\n",
       "      <td>+</td>\n",
       "      <td>-</td>\n",
       "      <td>-</td>\n",
       "      <td>-</td>\n",
       "      <td>-</td>\n",
       "    </tr>\n",
       "    <tr>\n",
       "      <th>91146</th>\n",
       "      <td>2520</td>\n",
       "      <td>west2369</td>\n",
       "      <td>pes</td>\n",
       "      <td>Farsi</td>\n",
       "      <td>NaN</td>\n",
       "      <td>03C7</td>\n",
       "      <td>χ</td>\n",
       "      <td>NaN</td>\n",
       "      <td>False</td>\n",
       "      <td>consonant</td>\n",
       "      <td>...</td>\n",
       "      <td>0</td>\n",
       "      <td>0</td>\n",
       "      <td>-</td>\n",
       "      <td>-</td>\n",
       "      <td>-</td>\n",
       "      <td>-</td>\n",
       "      <td>-</td>\n",
       "      <td>-</td>\n",
       "      <td>-</td>\n",
       "      <td>-</td>\n",
       "    </tr>\n",
       "    <tr>\n",
       "      <th>91147</th>\n",
       "      <td>2520</td>\n",
       "      <td>west2369</td>\n",
       "      <td>pes</td>\n",
       "      <td>Farsi</td>\n",
       "      <td>NaN</td>\n",
       "      <td>0065+031E</td>\n",
       "      <td>e̞</td>\n",
       "      <td>NaN</td>\n",
       "      <td>False</td>\n",
       "      <td>vowel</td>\n",
       "      <td>...</td>\n",
       "      <td>-</td>\n",
       "      <td>-</td>\n",
       "      <td>+</td>\n",
       "      <td>-</td>\n",
       "      <td>-</td>\n",
       "      <td>-</td>\n",
       "      <td>0</td>\n",
       "      <td>-</td>\n",
       "      <td>-</td>\n",
       "      <td>0</td>\n",
       "    </tr>\n",
       "    <tr>\n",
       "      <th>91148</th>\n",
       "      <td>2520</td>\n",
       "      <td>west2369</td>\n",
       "      <td>pes</td>\n",
       "      <td>Farsi</td>\n",
       "      <td>NaN</td>\n",
       "      <td>0069+02D0</td>\n",
       "      <td>iː</td>\n",
       "      <td>NaN</td>\n",
       "      <td>False</td>\n",
       "      <td>vowel</td>\n",
       "      <td>...</td>\n",
       "      <td>-</td>\n",
       "      <td>-</td>\n",
       "      <td>+</td>\n",
       "      <td>-</td>\n",
       "      <td>-</td>\n",
       "      <td>-</td>\n",
       "      <td>0</td>\n",
       "      <td>-</td>\n",
       "      <td>-</td>\n",
       "      <td>0</td>\n",
       "    </tr>\n",
       "    <tr>\n",
       "      <th>91149</th>\n",
       "      <td>2520</td>\n",
       "      <td>west2369</td>\n",
       "      <td>pes</td>\n",
       "      <td>Farsi</td>\n",
       "      <td>NaN</td>\n",
       "      <td>006F+031E</td>\n",
       "      <td>o̞</td>\n",
       "      <td>NaN</td>\n",
       "      <td>False</td>\n",
       "      <td>vowel</td>\n",
       "      <td>...</td>\n",
       "      <td>-</td>\n",
       "      <td>-</td>\n",
       "      <td>+</td>\n",
       "      <td>-</td>\n",
       "      <td>-</td>\n",
       "      <td>-</td>\n",
       "      <td>0</td>\n",
       "      <td>-</td>\n",
       "      <td>-</td>\n",
       "      <td>0</td>\n",
       "    </tr>\n",
       "    <tr>\n",
       "      <th>91150</th>\n",
       "      <td>2520</td>\n",
       "      <td>west2369</td>\n",
       "      <td>pes</td>\n",
       "      <td>Farsi</td>\n",
       "      <td>NaN</td>\n",
       "      <td>0075+02D0</td>\n",
       "      <td>uː</td>\n",
       "      <td>NaN</td>\n",
       "      <td>False</td>\n",
       "      <td>vowel</td>\n",
       "      <td>...</td>\n",
       "      <td>-</td>\n",
       "      <td>-</td>\n",
       "      <td>+</td>\n",
       "      <td>-</td>\n",
       "      <td>-</td>\n",
       "      <td>-</td>\n",
       "      <td>0</td>\n",
       "      <td>-</td>\n",
       "      <td>-</td>\n",
       "      <td>0</td>\n",
       "    </tr>\n",
       "    <tr>\n",
       "      <th>91151</th>\n",
       "      <td>2520</td>\n",
       "      <td>west2369</td>\n",
       "      <td>pes</td>\n",
       "      <td>Farsi</td>\n",
       "      <td>NaN</td>\n",
       "      <td>00E6</td>\n",
       "      <td>æ</td>\n",
       "      <td>NaN</td>\n",
       "      <td>False</td>\n",
       "      <td>vowel</td>\n",
       "      <td>...</td>\n",
       "      <td>-</td>\n",
       "      <td>-</td>\n",
       "      <td>+</td>\n",
       "      <td>-</td>\n",
       "      <td>-</td>\n",
       "      <td>-</td>\n",
       "      <td>0</td>\n",
       "      <td>-</td>\n",
       "      <td>-</td>\n",
       "      <td>0</td>\n",
       "    </tr>\n",
       "    <tr>\n",
       "      <th>91152</th>\n",
       "      <td>2520</td>\n",
       "      <td>west2369</td>\n",
       "      <td>pes</td>\n",
       "      <td>Farsi</td>\n",
       "      <td>NaN</td>\n",
       "      <td>0252+02D0</td>\n",
       "      <td>ɒː</td>\n",
       "      <td>NaN</td>\n",
       "      <td>False</td>\n",
       "      <td>vowel</td>\n",
       "      <td>...</td>\n",
       "      <td>-</td>\n",
       "      <td>-</td>\n",
       "      <td>+</td>\n",
       "      <td>-</td>\n",
       "      <td>-</td>\n",
       "      <td>-</td>\n",
       "      <td>0</td>\n",
       "      <td>-</td>\n",
       "      <td>-</td>\n",
       "      <td>0</td>\n",
       "    </tr>\n",
       "  </tbody>\n",
       "</table>\n",
       "<p>29 rows × 48 columns</p>\n",
       "</div>"
      ],
      "text/plain": [
       "       InventoryID Glottocode ISO6393 LanguageName SpecificDialect  \\\n",
       "91124         2520   west2369     pes        Farsi             NaN   \n",
       "91125         2520   west2369     pes        Farsi             NaN   \n",
       "91126         2520   west2369     pes        Farsi             NaN   \n",
       "91127         2520   west2369     pes        Farsi             NaN   \n",
       "91128         2520   west2369     pes        Farsi             NaN   \n",
       "91129         2520   west2369     pes        Farsi             NaN   \n",
       "91130         2520   west2369     pes        Farsi             NaN   \n",
       "91131         2520   west2369     pes        Farsi             NaN   \n",
       "91132         2520   west2369     pes        Farsi             NaN   \n",
       "91133         2520   west2369     pes        Farsi             NaN   \n",
       "91134         2520   west2369     pes        Farsi             NaN   \n",
       "91135         2520   west2369     pes        Farsi             NaN   \n",
       "91136         2520   west2369     pes        Farsi             NaN   \n",
       "91137         2520   west2369     pes        Farsi             NaN   \n",
       "91138         2520   west2369     pes        Farsi             NaN   \n",
       "91139         2520   west2369     pes        Farsi             NaN   \n",
       "91140         2520   west2369     pes        Farsi             NaN   \n",
       "91141         2520   west2369     pes        Farsi             NaN   \n",
       "91142         2520   west2369     pes        Farsi             NaN   \n",
       "91143         2520   west2369     pes        Farsi             NaN   \n",
       "91144         2520   west2369     pes        Farsi             NaN   \n",
       "91145         2520   west2369     pes        Farsi             NaN   \n",
       "91146         2520   west2369     pes        Farsi             NaN   \n",
       "91147         2520   west2369     pes        Farsi             NaN   \n",
       "91148         2520   west2369     pes        Farsi             NaN   \n",
       "91149         2520   west2369     pes        Farsi             NaN   \n",
       "91150         2520   west2369     pes        Farsi             NaN   \n",
       "91151         2520   west2369     pes        Farsi             NaN   \n",
       "91152         2520   west2369     pes        Farsi             NaN   \n",
       "\n",
       "                   GlyphID Phoneme Allophones Marginal SegmentClass  ...  \\\n",
       "91124                 0062       b        NaN    False    consonant  ...   \n",
       "91125                 0064       d        NaN    False    consonant  ...   \n",
       "91126       0064+0320+0292     d̠ʒ        NaN    False    consonant  ...   \n",
       "91127                 0066       f        NaN    False    consonant  ...   \n",
       "91128                 0068       h        NaN    False    consonant  ...   \n",
       "91129                 006A       j        NaN    False    consonant  ...   \n",
       "91130            006B+02B0      kʰ        NaN    False    consonant  ...   \n",
       "91131            006C+032A      l̪        NaN    False    consonant  ...   \n",
       "91132                 006D       m        NaN    False    consonant  ...   \n",
       "91133                 006E       n        NaN    False    consonant  ...   \n",
       "91134            0070+02B0      pʰ        NaN    False    consonant  ...   \n",
       "91135            0072+032A      r̪        NaN    False    consonant  ...   \n",
       "91136                 0073       s        NaN    False    consonant  ...   \n",
       "91137            0074+02B0      tʰ        NaN    False    consonant  ...   \n",
       "91138  0074+0320+0283+02B0    t̠ʃʰ        NaN    False    consonant  ...   \n",
       "91139                 0076       v        NaN    False    consonant  ...   \n",
       "91140                 007A       z        NaN    False    consonant  ...   \n",
       "91141                 0261       ɡ        NaN    False    consonant  ...   \n",
       "91142            0262+0281      ɢʁ        NaN    False    consonant  ...   \n",
       "91143                 0283       ʃ        NaN    False    consonant  ...   \n",
       "91144                 0292       ʒ        NaN    False    consonant  ...   \n",
       "91145                 0294       ʔ        NaN    False    consonant  ...   \n",
       "91146                 03C7       χ        NaN    False    consonant  ...   \n",
       "91147            0065+031E      e̞        NaN    False        vowel  ...   \n",
       "91148            0069+02D0      iː        NaN    False        vowel  ...   \n",
       "91149            006F+031E      o̞        NaN    False        vowel  ...   \n",
       "91150            0075+02D0      uː        NaN    False        vowel  ...   \n",
       "91151                 00E6       æ        NaN    False        vowel  ...   \n",
       "91152            0252+02D0      ɒː        NaN    False        vowel  ...   \n",
       "\n",
       "      retractedTongueRoot advancedTongueRoot periodicGlottalSource  \\\n",
       "91124                   0                  0                     +   \n",
       "91125                   0                  0                     +   \n",
       "91126                   0                  0                     +   \n",
       "91127                   0                  0                     -   \n",
       "91128                   0                  0                     -   \n",
       "91129                   0                  0                     +   \n",
       "91130                   0                  0                     -   \n",
       "91131                   0                  0                     +   \n",
       "91132                   0                  0                     +   \n",
       "91133                   0                  0                     +   \n",
       "91134                   0                  0                     -   \n",
       "91135                   0                  0                     +   \n",
       "91136                   0                  0                     -   \n",
       "91137                   0                  0                     -   \n",
       "91138                   0                  0                     -   \n",
       "91139                   0                  0                     +   \n",
       "91140                   0                  0                     +   \n",
       "91141                   0                  0                     +   \n",
       "91142                   0                  0                     +   \n",
       "91143                   0                  0                     -   \n",
       "91144                   0                  0                     +   \n",
       "91145                   0                  0                     -   \n",
       "91146                   0                  0                     -   \n",
       "91147                   -                  -                     +   \n",
       "91148                   -                  -                     +   \n",
       "91149                   -                  -                     +   \n",
       "91150                   -                  -                     +   \n",
       "91151                   -                  -                     +   \n",
       "91152                   -                  -                     +   \n",
       "\n",
       "      epilaryngealSource spreadGlottis constrictedGlottis fortis  \\\n",
       "91124                  -             -                  -      -   \n",
       "91125                  -             -                  -      -   \n",
       "91126                  -             -                  -      -   \n",
       "91127                  -             -                  -      -   \n",
       "91128                  -             +                  -      -   \n",
       "91129                  -             -                  -      -   \n",
       "91130                  -             +                  -      -   \n",
       "91131                  -             -                  -      -   \n",
       "91132                  -             -                  -      -   \n",
       "91133                  -             -                  -      -   \n",
       "91134                  -             +                  -      -   \n",
       "91135                  -             -                  -      -   \n",
       "91136                  -             -                  -      -   \n",
       "91137                  -             +                  -      -   \n",
       "91138                  -             +                  -      -   \n",
       "91139                  -             -                  -      -   \n",
       "91140                  -             -                  -      -   \n",
       "91141                  -             -                  -      -   \n",
       "91142                  -             -                  -      -   \n",
       "91143                  -             -                  -      -   \n",
       "91144                  -             -                  -      -   \n",
       "91145                  -             -                  +      -   \n",
       "91146                  -             -                  -      -   \n",
       "91147                  -             -                  -      0   \n",
       "91148                  -             -                  -      0   \n",
       "91149                  -             -                  -      0   \n",
       "91150                  -             -                  -      0   \n",
       "91151                  -             -                  -      0   \n",
       "91152                  -             -                  -      0   \n",
       "\n",
       "      raisedLarynxEjective loweredLarynxImplosive click  \n",
       "91124                    -                      -     -  \n",
       "91125                    -                      -     -  \n",
       "91126                    -                      -     -  \n",
       "91127                    -                      -     -  \n",
       "91128                    -                      -     -  \n",
       "91129                    -                      -     -  \n",
       "91130                    -                      -     -  \n",
       "91131                    -                      -     -  \n",
       "91132                    -                      -     -  \n",
       "91133                    -                      -     -  \n",
       "91134                    -                      -     -  \n",
       "91135                    -                      -     -  \n",
       "91136                    -                      -     -  \n",
       "91137                    -                      -     -  \n",
       "91138                    -                      -     -  \n",
       "91139                    -                      -     -  \n",
       "91140                    -                      -     -  \n",
       "91141                    -                      -     -  \n",
       "91142                    -                      -     -  \n",
       "91143                    -                      -     -  \n",
       "91144                    -                      -     -  \n",
       "91145                    -                      -     -  \n",
       "91146                    -                      -     -  \n",
       "91147                    -                      -     0  \n",
       "91148                    -                      -     0  \n",
       "91149                    -                      -     0  \n",
       "91150                    -                      -     0  \n",
       "91151                    -                      -     0  \n",
       "91152                    -                      -     0  \n",
       "\n",
       "[29 rows x 48 columns]"
      ]
     },
     "execution_count": 93,
     "metadata": {},
     "output_type": "execute_result"
    }
   ],
   "source": [
    "df[df[\"LanguageName\"] == \"Farsi\"]"
   ]
  },
  {
   "cell_type": "markdown",
   "id": "chemical-monaco",
   "metadata": {},
   "source": [
    "## Data Exploration\n",
    "\n",
    "In this section I'm going to look at the overall distribution of language features and answer some basic questions: which languages have the largest phoneme inventories? Which languages are the most consonant-heavy? etc."
   ]
  },
  {
   "cell_type": "code",
   "execution_count": 12,
   "id": "affiliated-class",
   "metadata": {},
   "outputs": [
    {
     "data": {
      "text/plain": [
       "Index(['InventoryID', 'Glottocode', 'ISO6393', 'LanguageName',\n",
       "       'SpecificDialect', 'GlyphID', 'Phoneme', 'Allophones', 'Marginal',\n",
       "       'SegmentClass', 'Source', 'tone', 'stress', 'syllabic', 'short', 'long',\n",
       "       'consonantal', 'sonorant', 'continuant', 'delayedRelease',\n",
       "       'approximant', 'tap', 'trill', 'nasal', 'lateral', 'labial', 'round',\n",
       "       'labiodental', 'coronal', 'anterior', 'distributed', 'strident',\n",
       "       'dorsal', 'high', 'low', 'front', 'back', 'tense',\n",
       "       'retractedTongueRoot', 'advancedTongueRoot', 'periodicGlottalSource',\n",
       "       'epilaryngealSource', 'spreadGlottis', 'constrictedGlottis', 'fortis',\n",
       "       'raisedLarynxEjective', 'loweredLarynxImplosive', 'click'],\n",
       "      dtype='object')"
      ]
     },
     "execution_count": 12,
     "metadata": {},
     "output_type": "execute_result"
    }
   ],
   "source": [
    "# All the features from SegmentClass onwards (except Source) are phoneme- (segment) specific features.\n",
    "df.columns"
   ]
  },
  {
   "cell_type": "code",
   "execution_count": 13,
   "id": "white-telephone",
   "metadata": {},
   "outputs": [],
   "source": [
    "# Get the data into SQL format so it's easier to run queries against.\n",
    "from sqlalchemy import create_engine\n",
    "\n",
    "engine = create_engine('sqlite://', echo=False)\n",
    "df.to_sql('phoible', con=engine)"
   ]
  },
  {
   "cell_type": "code",
   "execution_count": 53,
   "id": "precise-wright",
   "metadata": {},
   "outputs": [
    {
     "ename": "OperationalError",
     "evalue": "(sqlite3.OperationalError) no such column: ISO393\n[SQL: \n               SELECT AVG(cnt) FROM (SELECT ISO393, COUNT(DISTINCT Phoneme) AS cnt\n               FROM phoible\n               GROUP BY InventoryID, ISO6393)\n               ]\n(Background on this error at: http://sqlalche.me/e/13/e3q8)",
     "output_type": "error",
     "traceback": [
      "\u001b[0;31m---------------------------------------------------------------------------\u001b[0m",
      "\u001b[0;31mOperationalError\u001b[0m                          Traceback (most recent call last)",
      "\u001b[0;32m~/anaconda3/lib/python3.7/site-packages/sqlalchemy/engine/base.py\u001b[0m in \u001b[0;36m_execute_context\u001b[0;34m(self, dialect, constructor, statement, parameters, *args)\u001b[0m\n\u001b[1;32m   1276\u001b[0m                     self.dialect.do_execute(\n\u001b[0;32m-> 1277\u001b[0;31m                         \u001b[0mcursor\u001b[0m\u001b[0;34m,\u001b[0m \u001b[0mstatement\u001b[0m\u001b[0;34m,\u001b[0m \u001b[0mparameters\u001b[0m\u001b[0;34m,\u001b[0m \u001b[0mcontext\u001b[0m\u001b[0;34m\u001b[0m\u001b[0;34m\u001b[0m\u001b[0m\n\u001b[0m\u001b[1;32m   1278\u001b[0m                     )\n",
      "\u001b[0;32m~/anaconda3/lib/python3.7/site-packages/sqlalchemy/engine/default.py\u001b[0m in \u001b[0;36mdo_execute\u001b[0;34m(self, cursor, statement, parameters, context)\u001b[0m\n\u001b[1;32m    592\u001b[0m     \u001b[0;32mdef\u001b[0m \u001b[0mdo_execute\u001b[0m\u001b[0;34m(\u001b[0m\u001b[0mself\u001b[0m\u001b[0;34m,\u001b[0m \u001b[0mcursor\u001b[0m\u001b[0;34m,\u001b[0m \u001b[0mstatement\u001b[0m\u001b[0;34m,\u001b[0m \u001b[0mparameters\u001b[0m\u001b[0;34m,\u001b[0m \u001b[0mcontext\u001b[0m\u001b[0;34m=\u001b[0m\u001b[0;32mNone\u001b[0m\u001b[0;34m)\u001b[0m\u001b[0;34m:\u001b[0m\u001b[0;34m\u001b[0m\u001b[0;34m\u001b[0m\u001b[0m\n\u001b[0;32m--> 593\u001b[0;31m         \u001b[0mcursor\u001b[0m\u001b[0;34m.\u001b[0m\u001b[0mexecute\u001b[0m\u001b[0;34m(\u001b[0m\u001b[0mstatement\u001b[0m\u001b[0;34m,\u001b[0m \u001b[0mparameters\u001b[0m\u001b[0;34m)\u001b[0m\u001b[0;34m\u001b[0m\u001b[0;34m\u001b[0m\u001b[0m\n\u001b[0m\u001b[1;32m    594\u001b[0m \u001b[0;34m\u001b[0m\u001b[0m\n",
      "\u001b[0;31mOperationalError\u001b[0m: no such column: ISO393",
      "\nThe above exception was the direct cause of the following exception:\n",
      "\u001b[0;31mOperationalError\u001b[0m                          Traceback (most recent call last)",
      "\u001b[0;32m<ipython-input-53-2a8874976c4a>\u001b[0m in \u001b[0;36m<module>\u001b[0;34m\u001b[0m\n\u001b[1;32m      5\u001b[0m                \u001b[0mFROM\u001b[0m \u001b[0mphoible\u001b[0m\u001b[0;34m\u001b[0m\u001b[0;34m\u001b[0m\u001b[0m\n\u001b[1;32m      6\u001b[0m                GROUP BY InventoryID, ISO6393)\n\u001b[0;32m----> 7\u001b[0;31m                \"\"\"\n\u001b[0m\u001b[1;32m      8\u001b[0m               ).fetchall()\n\u001b[1;32m      9\u001b[0m \u001b[0;34m\u001b[0m\u001b[0m\n",
      "\u001b[0;32m~/anaconda3/lib/python3.7/site-packages/sqlalchemy/engine/base.py\u001b[0m in \u001b[0;36mexecute\u001b[0;34m(self, statement, *multiparams, **params)\u001b[0m\n\u001b[1;32m   2233\u001b[0m \u001b[0;34m\u001b[0m\u001b[0m\n\u001b[1;32m   2234\u001b[0m         \u001b[0mconnection\u001b[0m \u001b[0;34m=\u001b[0m \u001b[0mself\u001b[0m\u001b[0;34m.\u001b[0m\u001b[0m_contextual_connect\u001b[0m\u001b[0;34m(\u001b[0m\u001b[0mclose_with_result\u001b[0m\u001b[0;34m=\u001b[0m\u001b[0;32mTrue\u001b[0m\u001b[0;34m)\u001b[0m\u001b[0;34m\u001b[0m\u001b[0;34m\u001b[0m\u001b[0m\n\u001b[0;32m-> 2235\u001b[0;31m         \u001b[0;32mreturn\u001b[0m \u001b[0mconnection\u001b[0m\u001b[0;34m.\u001b[0m\u001b[0mexecute\u001b[0m\u001b[0;34m(\u001b[0m\u001b[0mstatement\u001b[0m\u001b[0;34m,\u001b[0m \u001b[0;34m*\u001b[0m\u001b[0mmultiparams\u001b[0m\u001b[0;34m,\u001b[0m \u001b[0;34m**\u001b[0m\u001b[0mparams\u001b[0m\u001b[0;34m)\u001b[0m\u001b[0;34m\u001b[0m\u001b[0;34m\u001b[0m\u001b[0m\n\u001b[0m\u001b[1;32m   2236\u001b[0m \u001b[0;34m\u001b[0m\u001b[0m\n\u001b[1;32m   2237\u001b[0m     \u001b[0;32mdef\u001b[0m \u001b[0mscalar\u001b[0m\u001b[0;34m(\u001b[0m\u001b[0mself\u001b[0m\u001b[0;34m,\u001b[0m \u001b[0mstatement\u001b[0m\u001b[0;34m,\u001b[0m \u001b[0;34m*\u001b[0m\u001b[0mmultiparams\u001b[0m\u001b[0;34m,\u001b[0m \u001b[0;34m**\u001b[0m\u001b[0mparams\u001b[0m\u001b[0;34m)\u001b[0m\u001b[0;34m:\u001b[0m\u001b[0;34m\u001b[0m\u001b[0;34m\u001b[0m\u001b[0m\n",
      "\u001b[0;32m~/anaconda3/lib/python3.7/site-packages/sqlalchemy/engine/base.py\u001b[0m in \u001b[0;36mexecute\u001b[0;34m(self, object_, *multiparams, **params)\u001b[0m\n\u001b[1;32m   1001\u001b[0m         \"\"\"\n\u001b[1;32m   1002\u001b[0m         \u001b[0;32mif\u001b[0m \u001b[0misinstance\u001b[0m\u001b[0;34m(\u001b[0m\u001b[0mobject_\u001b[0m\u001b[0;34m,\u001b[0m \u001b[0mutil\u001b[0m\u001b[0;34m.\u001b[0m\u001b[0mstring_types\u001b[0m\u001b[0;34m[\u001b[0m\u001b[0;36m0\u001b[0m\u001b[0;34m]\u001b[0m\u001b[0;34m)\u001b[0m\u001b[0;34m:\u001b[0m\u001b[0;34m\u001b[0m\u001b[0;34m\u001b[0m\u001b[0m\n\u001b[0;32m-> 1003\u001b[0;31m             \u001b[0;32mreturn\u001b[0m \u001b[0mself\u001b[0m\u001b[0;34m.\u001b[0m\u001b[0m_execute_text\u001b[0m\u001b[0;34m(\u001b[0m\u001b[0mobject_\u001b[0m\u001b[0;34m,\u001b[0m \u001b[0mmultiparams\u001b[0m\u001b[0;34m,\u001b[0m \u001b[0mparams\u001b[0m\u001b[0;34m)\u001b[0m\u001b[0;34m\u001b[0m\u001b[0;34m\u001b[0m\u001b[0m\n\u001b[0m\u001b[1;32m   1004\u001b[0m         \u001b[0;32mtry\u001b[0m\u001b[0;34m:\u001b[0m\u001b[0;34m\u001b[0m\u001b[0;34m\u001b[0m\u001b[0m\n\u001b[1;32m   1005\u001b[0m             \u001b[0mmeth\u001b[0m \u001b[0;34m=\u001b[0m \u001b[0mobject_\u001b[0m\u001b[0;34m.\u001b[0m\u001b[0m_execute_on_connection\u001b[0m\u001b[0;34m\u001b[0m\u001b[0;34m\u001b[0m\u001b[0m\n",
      "\u001b[0;32m~/anaconda3/lib/python3.7/site-packages/sqlalchemy/engine/base.py\u001b[0m in \u001b[0;36m_execute_text\u001b[0;34m(self, statement, multiparams, params)\u001b[0m\n\u001b[1;32m   1176\u001b[0m             \u001b[0mparameters\u001b[0m\u001b[0;34m,\u001b[0m\u001b[0;34m\u001b[0m\u001b[0;34m\u001b[0m\u001b[0m\n\u001b[1;32m   1177\u001b[0m             \u001b[0mstatement\u001b[0m\u001b[0;34m,\u001b[0m\u001b[0;34m\u001b[0m\u001b[0;34m\u001b[0m\u001b[0m\n\u001b[0;32m-> 1178\u001b[0;31m             \u001b[0mparameters\u001b[0m\u001b[0;34m,\u001b[0m\u001b[0;34m\u001b[0m\u001b[0;34m\u001b[0m\u001b[0m\n\u001b[0m\u001b[1;32m   1179\u001b[0m         )\n\u001b[1;32m   1180\u001b[0m         \u001b[0;32mif\u001b[0m \u001b[0mself\u001b[0m\u001b[0;34m.\u001b[0m\u001b[0m_has_events\u001b[0m \u001b[0;32mor\u001b[0m \u001b[0mself\u001b[0m\u001b[0;34m.\u001b[0m\u001b[0mengine\u001b[0m\u001b[0;34m.\u001b[0m\u001b[0m_has_events\u001b[0m\u001b[0;34m:\u001b[0m\u001b[0;34m\u001b[0m\u001b[0;34m\u001b[0m\u001b[0m\n",
      "\u001b[0;32m~/anaconda3/lib/python3.7/site-packages/sqlalchemy/engine/base.py\u001b[0m in \u001b[0;36m_execute_context\u001b[0;34m(self, dialect, constructor, statement, parameters, *args)\u001b[0m\n\u001b[1;32m   1315\u001b[0m         \u001b[0;32mexcept\u001b[0m \u001b[0mBaseException\u001b[0m \u001b[0;32mas\u001b[0m \u001b[0me\u001b[0m\u001b[0;34m:\u001b[0m\u001b[0;34m\u001b[0m\u001b[0;34m\u001b[0m\u001b[0m\n\u001b[1;32m   1316\u001b[0m             self._handle_dbapi_exception(\n\u001b[0;32m-> 1317\u001b[0;31m                 \u001b[0me\u001b[0m\u001b[0;34m,\u001b[0m \u001b[0mstatement\u001b[0m\u001b[0;34m,\u001b[0m \u001b[0mparameters\u001b[0m\u001b[0;34m,\u001b[0m \u001b[0mcursor\u001b[0m\u001b[0;34m,\u001b[0m \u001b[0mcontext\u001b[0m\u001b[0;34m\u001b[0m\u001b[0;34m\u001b[0m\u001b[0m\n\u001b[0m\u001b[1;32m   1318\u001b[0m             )\n\u001b[1;32m   1319\u001b[0m \u001b[0;34m\u001b[0m\u001b[0m\n",
      "\u001b[0;32m~/anaconda3/lib/python3.7/site-packages/sqlalchemy/engine/base.py\u001b[0m in \u001b[0;36m_handle_dbapi_exception\u001b[0;34m(self, e, statement, parameters, cursor, context)\u001b[0m\n\u001b[1;32m   1509\u001b[0m             \u001b[0;32melif\u001b[0m \u001b[0mshould_wrap\u001b[0m\u001b[0;34m:\u001b[0m\u001b[0;34m\u001b[0m\u001b[0;34m\u001b[0m\u001b[0m\n\u001b[1;32m   1510\u001b[0m                 util.raise_(\n\u001b[0;32m-> 1511\u001b[0;31m                     \u001b[0msqlalchemy_exception\u001b[0m\u001b[0;34m,\u001b[0m \u001b[0mwith_traceback\u001b[0m\u001b[0;34m=\u001b[0m\u001b[0mexc_info\u001b[0m\u001b[0;34m[\u001b[0m\u001b[0;36m2\u001b[0m\u001b[0;34m]\u001b[0m\u001b[0;34m,\u001b[0m \u001b[0mfrom_\u001b[0m\u001b[0;34m=\u001b[0m\u001b[0me\u001b[0m\u001b[0;34m\u001b[0m\u001b[0;34m\u001b[0m\u001b[0m\n\u001b[0m\u001b[1;32m   1512\u001b[0m                 )\n\u001b[1;32m   1513\u001b[0m             \u001b[0;32melse\u001b[0m\u001b[0;34m:\u001b[0m\u001b[0;34m\u001b[0m\u001b[0;34m\u001b[0m\u001b[0m\n",
      "\u001b[0;32m~/anaconda3/lib/python3.7/site-packages/sqlalchemy/util/compat.py\u001b[0m in \u001b[0;36mraise_\u001b[0;34m(***failed resolving arguments***)\u001b[0m\n\u001b[1;32m    180\u001b[0m \u001b[0;34m\u001b[0m\u001b[0m\n\u001b[1;32m    181\u001b[0m         \u001b[0;32mtry\u001b[0m\u001b[0;34m:\u001b[0m\u001b[0;34m\u001b[0m\u001b[0;34m\u001b[0m\u001b[0m\n\u001b[0;32m--> 182\u001b[0;31m             \u001b[0;32mraise\u001b[0m \u001b[0mexception\u001b[0m\u001b[0;34m\u001b[0m\u001b[0;34m\u001b[0m\u001b[0m\n\u001b[0m\u001b[1;32m    183\u001b[0m         \u001b[0;32mfinally\u001b[0m\u001b[0;34m:\u001b[0m\u001b[0;34m\u001b[0m\u001b[0;34m\u001b[0m\u001b[0m\n\u001b[1;32m    184\u001b[0m             \u001b[0;31m# credit to\u001b[0m\u001b[0;34m\u001b[0m\u001b[0;34m\u001b[0m\u001b[0;34m\u001b[0m\u001b[0m\n",
      "\u001b[0;32m~/anaconda3/lib/python3.7/site-packages/sqlalchemy/engine/base.py\u001b[0m in \u001b[0;36m_execute_context\u001b[0;34m(self, dialect, constructor, statement, parameters, *args)\u001b[0m\n\u001b[1;32m   1275\u001b[0m                 \u001b[0;32mif\u001b[0m \u001b[0;32mnot\u001b[0m \u001b[0mevt_handled\u001b[0m\u001b[0;34m:\u001b[0m\u001b[0;34m\u001b[0m\u001b[0;34m\u001b[0m\u001b[0m\n\u001b[1;32m   1276\u001b[0m                     self.dialect.do_execute(\n\u001b[0;32m-> 1277\u001b[0;31m                         \u001b[0mcursor\u001b[0m\u001b[0;34m,\u001b[0m \u001b[0mstatement\u001b[0m\u001b[0;34m,\u001b[0m \u001b[0mparameters\u001b[0m\u001b[0;34m,\u001b[0m \u001b[0mcontext\u001b[0m\u001b[0;34m\u001b[0m\u001b[0;34m\u001b[0m\u001b[0m\n\u001b[0m\u001b[1;32m   1278\u001b[0m                     )\n\u001b[1;32m   1279\u001b[0m \u001b[0;34m\u001b[0m\u001b[0m\n",
      "\u001b[0;32m~/anaconda3/lib/python3.7/site-packages/sqlalchemy/engine/default.py\u001b[0m in \u001b[0;36mdo_execute\u001b[0;34m(self, cursor, statement, parameters, context)\u001b[0m\n\u001b[1;32m    591\u001b[0m \u001b[0;34m\u001b[0m\u001b[0m\n\u001b[1;32m    592\u001b[0m     \u001b[0;32mdef\u001b[0m \u001b[0mdo_execute\u001b[0m\u001b[0;34m(\u001b[0m\u001b[0mself\u001b[0m\u001b[0;34m,\u001b[0m \u001b[0mcursor\u001b[0m\u001b[0;34m,\u001b[0m \u001b[0mstatement\u001b[0m\u001b[0;34m,\u001b[0m \u001b[0mparameters\u001b[0m\u001b[0;34m,\u001b[0m \u001b[0mcontext\u001b[0m\u001b[0;34m=\u001b[0m\u001b[0;32mNone\u001b[0m\u001b[0;34m)\u001b[0m\u001b[0;34m:\u001b[0m\u001b[0;34m\u001b[0m\u001b[0;34m\u001b[0m\u001b[0m\n\u001b[0;32m--> 593\u001b[0;31m         \u001b[0mcursor\u001b[0m\u001b[0;34m.\u001b[0m\u001b[0mexecute\u001b[0m\u001b[0;34m(\u001b[0m\u001b[0mstatement\u001b[0m\u001b[0;34m,\u001b[0m \u001b[0mparameters\u001b[0m\u001b[0;34m)\u001b[0m\u001b[0;34m\u001b[0m\u001b[0;34m\u001b[0m\u001b[0m\n\u001b[0m\u001b[1;32m    594\u001b[0m \u001b[0;34m\u001b[0m\u001b[0m\n\u001b[1;32m    595\u001b[0m     \u001b[0;32mdef\u001b[0m \u001b[0mdo_execute_no_params\u001b[0m\u001b[0;34m(\u001b[0m\u001b[0mself\u001b[0m\u001b[0;34m,\u001b[0m \u001b[0mcursor\u001b[0m\u001b[0;34m,\u001b[0m \u001b[0mstatement\u001b[0m\u001b[0;34m,\u001b[0m \u001b[0mcontext\u001b[0m\u001b[0;34m=\u001b[0m\u001b[0;32mNone\u001b[0m\u001b[0;34m)\u001b[0m\u001b[0;34m:\u001b[0m\u001b[0;34m\u001b[0m\u001b[0;34m\u001b[0m\u001b[0m\n",
      "\u001b[0;31mOperationalError\u001b[0m: (sqlite3.OperationalError) no such column: ISO393\n[SQL: \n               SELECT AVG(cnt) FROM (SELECT ISO393, COUNT(DISTINCT Phoneme) AS cnt\n               FROM phoible\n               GROUP BY InventoryID, ISO6393)\n               ]\n(Background on this error at: http://sqlalche.me/e/13/e3q8)"
     ]
    }
   ],
   "source": [
    "# Group by `InventoryID, LanguageName` because `LanguageName` is not unique:\n",
    "# some languages have dialects: `SpecificDialect` column.\n",
    "res = engine.execute(\"\"\"\n",
    "               SELECT AVG(cnt) FROM (SELECT ISO6393, COUNT(DISTINCT Phoneme) AS cnt\n",
    "               FROM phoible\n",
    "               GROUP BY InventoryID, ISO6393)\n",
    "               \"\"\"\n",
    "              ).fetchall()\n",
    "\n",
    "print(f\"The average language has {res[0][0]:.1f} phonemes\")"
   ]
  },
  {
   "cell_type": "code",
   "execution_count": 40,
   "id": "earlier-weekend",
   "metadata": {},
   "outputs": [
    {
     "name": "stdout",
     "output_type": "stream",
     "text": [
      "The languages with the greatest number of phonemes are:\n"
     ]
    },
    {
     "data": {
      "text/plain": [
       "[('!Xóõ', 161),\n",
       " ('!XU', 141),\n",
       " ('Soghpo Tibetan', 133),\n",
       " ('Kildin Saami', 128),\n",
       " ('!Xun', 120),\n",
       " ('Mbembe', 116),\n",
       " ('Nangchenpa Tibetan', 96),\n",
       " ('Lezgian', 96),\n",
       " ('Rigwe', 95),\n",
       " ('Hindi-Urdu', 94)]"
      ]
     },
     "execution_count": 40,
     "metadata": {},
     "output_type": "execute_result"
    }
   ],
   "source": [
    "res = engine.execute(\"\"\"\n",
    "               SELECT LanguageName, COUNT(*) AS cnt\n",
    "               FROM phoible\n",
    "               GROUP BY InventoryID, LanguageName\n",
    "               ORDER BY cnt DESC\n",
    "               \"\"\"\n",
    "              ).fetchall()\n",
    "\n",
    "print(f\"The languages with the greatest number of phonemes are:\")\n",
    "res[:10]"
   ]
  },
  {
   "cell_type": "code",
   "execution_count": 34,
   "id": "regulation-charlotte",
   "metadata": {},
   "outputs": [
    {
     "name": "stdout",
     "output_type": "stream",
     "text": [
      "The languages with the smallest number of phonemes are:\n"
     ]
    },
    {
     "data": {
      "text/plain": [
       "[('myp', 11),\n",
       " ('roo', 11),\n",
       " ('myp', 11),\n",
       " ('nas', 13),\n",
       " ('haw', 13),\n",
       " ('aau', 14),\n",
       " ('tqo', 14),\n",
       " ('rro', 14),\n",
       " ('car', 15),\n",
       " ('car', 15)]"
      ]
     },
     "execution_count": 34,
     "metadata": {},
     "output_type": "execute_result"
    }
   ],
   "source": [
    "print(f\"The languages with the smallest number of phonemes are:\")\n",
    "list(reversed(res[-10:]))"
   ]
  },
  {
   "cell_type": "code",
   "execution_count": 35,
   "id": "realistic-subject",
   "metadata": {},
   "outputs": [
    {
     "name": "stdout",
     "output_type": "stream",
     "text": [
      "Most languages have around 20-50 phonemes, though there are a few with a lot more\n"
     ]
    },
    {
     "data": {
      "image/png": "[encoded data removed]",
      "text/plain": [
       "<Figure size 432x288 with 1 Axes>"
      ]
     },
     "metadata": {
      "needs_background": "light"
     },
     "output_type": "display_data"
    }
   ],
   "source": [
    "# Let's graph the distribution of phoneme inventory sizes\n",
    "import seaborn as sns\n",
    "import matplotlib.pyplot as plt\n",
    "\n",
    "plt.xlabel('# of phonemes', fontsize=16)\n",
    "plt.ylabel('# of languages', fontsize=16)\n",
    "\n",
    "sns.histplot(data=[i for _, i in res], bins=50, element=\"poly\")\n",
    "print(\"Most languages have around 20-50 phonemes, though there are a few with a lot more\")"
   ]
  },
  {
   "cell_type": "code",
   "execution_count": 54,
   "id": "considered-privacy",
   "metadata": {},
   "outputs": [
    {
     "name": "stdout",
     "output_type": "stream",
     "text": [
      "The languages with the greatest number of vowels are:\n"
     ]
    },
    {
     "data": {
      "text/plain": [
       "[('So', 50),\n",
       " ('Elfdalian', 50),\n",
       " ('Danish', 49),\n",
       " ('Scottish Gaelic', 49),\n",
       " ('!XU', 46),\n",
       " ('PARAUK', 43),\n",
       " ('Dan', 40),\n",
       " ('Thok Reel', 40),\n",
       " ('Karimojong', 39),\n",
       " ('Luanyjang Dinka', 39)]"
      ]
     },
     "execution_count": 54,
     "metadata": {},
     "output_type": "execute_result"
    }
   ],
   "source": [
    "res = engine.execute(\"\"\"\n",
    "               SELECT LanguageName, COUNT(*) AS cnt\n",
    "               FROM phoible\n",
    "               WHERE SegmentClass = 'vowel'\n",
    "               GROUP BY InventoryID, LanguageName\n",
    "               ORDER BY cnt DESC\n",
    "               \"\"\"\n",
    "              ).fetchall()\n",
    "\n",
    "print(f\"The languages with the greatest number of vowels are:\")\n",
    "res[:10]"
   ]
  },
  {
   "cell_type": "code",
   "execution_count": 19,
   "id": "starting-myanmar",
   "metadata": {},
   "outputs": [
    {
     "name": "stdout",
     "output_type": "stream",
     "text": [
      "The languages with the fewest number of vowels are:\n"
     ]
    },
    {
     "data": {
      "text/plain": [
       "[('Buwal', 2),\n",
       " ('Cuvok', 2),\n",
       " ('Zulgo', 2),\n",
       " ('Tableland Lamalama', 3),\n",
       " ('Ngarigu', 3),\n",
       " ('Nganyaywana', 3),\n",
       " ('Awabakal', 3),\n",
       " ('Eora', 3),\n",
       " ('Dharuk', 3),\n",
       " ('Darkinyung', 3)]"
      ]
     },
     "execution_count": 19,
     "metadata": {},
     "output_type": "execute_result"
    }
   ],
   "source": [
    "print(f\"The languages with the fewest number of vowels are:\")\n",
    "list(reversed(res[-10:]))"
   ]
  },
  {
   "cell_type": "code",
   "execution_count": 55,
   "id": "shaped-stomach",
   "metadata": {},
   "outputs": [
    {
     "name": "stdout",
     "output_type": "stream",
     "text": [
      "The languages with the highest ratio of consonants to vowels are:\n"
     ]
    },
    {
     "data": {
      "text/plain": [
       "[('Tashlhiyt Berber', 23.666666666666668),\n",
       " ('Abkhaz', 22.333333333333332),\n",
       " ('Abkhaz', 19.666666666666668),\n",
       " ('Buwal', 19.0),\n",
       " ('Adyghe', 18.666666666666668),\n",
       " ('Moroccan Arabic', 18.5),\n",
       " ('Haida', 15.666666666666666),\n",
       " ('HAIDA', 15.333333333333334),\n",
       " ('Zulgo', 14.5),\n",
       " ('Cuvok', 13.5)]"
      ]
     },
     "execution_count": 55,
     "metadata": {},
     "output_type": "execute_result"
    }
   ],
   "source": [
    "res = engine.execute(\"\"\"\n",
    "               SELECT x.LanguageName, y.cons_cnt / CAST(x.vowel_cnt AS float) AS ratio FROM\n",
    "               (SELECT InventoryID, LanguageName, COUNT(*) AS vowel_cnt\n",
    "               FROM phoible x\n",
    "               WHERE SegmentClass = 'vowel'\n",
    "               GROUP BY InventoryID, LanguageName) AS x\n",
    "               JOIN\n",
    "               (SELECT InventoryID, LanguageName, COUNT(*) AS cons_cnt\n",
    "               FROM phoible x\n",
    "               WHERE SegmentClass = 'consonant'\n",
    "               GROUP BY InventoryID, LanguageName) AS y\n",
    "               ON x.InventoryID = y.InventoryID\n",
    "               ORDER BY ratio DESC\n",
    "               \"\"\"\n",
    "              ).fetchall()\n",
    "\n",
    "print(f\"The languages with the highest ratio of consonants to vowels are:\")\n",
    "res[:10]"
   ]
  },
  {
   "cell_type": "code",
   "execution_count": 21,
   "id": "electoral-burden",
   "metadata": {},
   "outputs": [
    {
     "name": "stdout",
     "output_type": "stream",
     "text": [
      "The languages with the lowest ratio of consonants to vowels are:\n"
     ]
    },
    {
     "data": {
      "text/plain": [
       "[('Krahô', 0.35294117647058826),\n",
       " ('Apinaye', 0.4),\n",
       " ('Danish', 0.40816326530612246),\n",
       " ('So', 0.44),\n",
       " ('Andoke', 0.4583333333333333),\n",
       " ('Binandere', 0.4583333333333333),\n",
       " ('Sanömá of Kolulu', 0.47619047619047616),\n",
       " ('Thok Reel', 0.5),\n",
       " ('Luanyjang Dinka', 0.5128205128205128),\n",
       " ('Lama', 0.5151515151515151)]"
      ]
     },
     "execution_count": 21,
     "metadata": {},
     "output_type": "execute_result"
    }
   ],
   "source": [
    "print(f\"The languages with the lowest ratio of consonants to vowels are:\")\n",
    "list(reversed(res[-10:]))"
   ]
  },
  {
   "cell_type": "code",
   "execution_count": 22,
   "id": "large-fluid",
   "metadata": {},
   "outputs": [
    {
     "name": "stdout",
     "output_type": "stream",
     "text": [
      "Most languages have 1 to 5 consonants per vowel\n"
     ]
    },
    {
     "data": {
      "image/png": "[encoded data removed]",
      "text/plain": [
       "<Figure size 432x288 with 1 Axes>"
      ]
     },
     "metadata": {
      "needs_background": "light"
     },
     "output_type": "display_data"
    }
   ],
   "source": [
    "plt.xlabel('consonant/vowel ratio', fontsize=16)\n",
    "plt.ylabel('# of languages', fontsize=16)\n",
    "\n",
    "sns.histplot(data=[i for _, i in res], bins=50, element=\"poly\")\n",
    "print(\"Most languages have 1 to 5 consonants per vowel\")"
   ]
  },
  {
   "cell_type": "code",
   "execution_count": 23,
   "id": "thorough-nepal",
   "metadata": {},
   "outputs": [
    {
     "name": "stdout",
     "output_type": "stream",
     "text": [
      "These are some languages that have tones:\n"
     ]
    },
    {
     "data": {
      "text/plain": [
       "[('Burushaski', 'tone'),\n",
       " ('Vietnamese', 'tone'),\n",
       " ('Mandarin Chinese', 'tone'),\n",
       " ('Wu', 'tone'),\n",
       " ('Hakka', 'tone'),\n",
       " ('Cantonese', 'tone'),\n",
       " ('Yao', 'tone'),\n",
       " ('Dafla', 'tone'),\n",
       " ('Burmese', 'tone'),\n",
       " ('Lahu', 'tone')]"
      ]
     },
     "execution_count": 23,
     "metadata": {},
     "output_type": "execute_result"
    }
   ],
   "source": [
    "res = engine.execute(f\"\"\"\n",
    "               SELECT DISTINCT(LanguageName), SegmentClass\n",
    "               FROM phoible\n",
    "               WHERE SegmentClass = 'tone'\n",
    "               \"\"\"\n",
    "              ).fetchall()\n",
    "\n",
    "print(\"These are some languages that have tones:\")\n",
    "res[:10]"
   ]
  },
  {
   "cell_type": "code",
   "execution_count": 24,
   "id": "representative-constitutional",
   "metadata": {},
   "outputs": [
    {
     "name": "stdout",
     "output_type": "stream",
     "text": [
      "These are some unusual languages that lack nasal sounds\n"
     ]
    },
    {
     "data": {
      "text/plain": [
       "[('LUSHOOTSEED', 0),\n",
       " ('PIRAHA', 0),\n",
       " ('QUILEUTE', 0),\n",
       " ('ROTOKAS', 0),\n",
       " ('Hup', 0),\n",
       " ('Tatuyo', 0),\n",
       " ('Xamtanga', 0),\n",
       " ('Pirahã', 0),\n",
       " ('Barasana-Eduria', 0),\n",
       " ('Kubeo', 0),\n",
       " ('Desano', 0),\n",
       " ('Máíhɨki', 0),\n",
       " ('Tatuyo', 0),\n",
       " ('Yurutí', 0),\n",
       " ('Pisamira', 0),\n",
       " ('Najdi Arabic', 0)]"
      ]
     },
     "execution_count": 24,
     "metadata": {},
     "output_type": "execute_result"
    }
   ],
   "source": [
    "# Which languages lack nasal sounds i.e. /n/, /m/?\n",
    "res = engine.execute(\"\"\"\n",
    "               SELECT x.LanguageName, SUM(x.nasal) AS num_nasals\n",
    "               FROM (SELECT InventoryID, LanguageName,\n",
    "               CASE WHEN nasal = '-' THEN 0 ELSE 1 END AS nasal\n",
    "               FROM phoible) AS x\n",
    "               GROUP BY InventoryID, x.LanguageName\n",
    "               ORDER BY num_nasals ASC\n",
    "               \"\"\"\n",
    "              ).fetchall()\n",
    "\n",
    "print(\"These are some unusual languages that lack nasal sounds\")\n",
    "res[:16]\n",
    "\n",
    "# The final language, Najdi Arabic, definitely contains nasal sounds - so this might be an error!\n",
    "# Error reported: https://github.com/phoible/dev/issues/332"
   ]
  },
  {
   "cell_type": "markdown",
   "id": "numeric-banking",
   "metadata": {},
   "source": [
    "## Language Comparison\n",
    "\n",
    "In this section, I'm going to get the data into a format that's useful for doing comparisons. There are several ways to do this:\n",
    "\n",
    "- Map each language to a list of all its phonemes, i.e. `\"English\": [\"a\", \"e\", \"i\", \"b\", ...]`\n",
    "- Map each language to a vector representing the presence of absence of a given phoneme, i.e. `\"English\": [0, 0, 1, 0, ...]`. This binary vector is equal to the length of all the phonemes in the database.\n",
    "- Map each language to a vector of vectors, where each sub-vector are the features of each phoneme, i.e `English: [[0, 1, 1, ...], [1, 1, 0, ...], ...]`\n",
    "\n",
    "Each of these representations allow for different types of distance metrics, so I'll be trying out lots of measurement types. I took inspiration from [this paper](https://www.cv-foundation.org/openaccess/content_cvpr_2014/papers/Gardner_Measuring_Distance_Between_2014_CVPR_paper.pdf) about measuring the distances between sets.\n",
    "\n",
    "Also, it's important to keep in mind the complexity of these different distance metrics. In order to determine the closest pair of languages, it's necessary to compute the distance between every pair of languages, which is $n^2$ computations. Furthermore, the distance metric itself has its own complexity, which I'll call $d$. That means the complexity of generating all the paired distances between all the languages is actually $dn^2$, which might be large. Luckily, we can ask specific questions instead, like _what is the distance between English and Arabic?_ which has a complexity of just $d$. I'll be using American English for all of my comparisons."
   ]
  },
  {
   "cell_type": "markdown",
   "id": "opponent-depth",
   "metadata": {},
   "source": [
    "### Overlap Coefficient\n",
    "\n",
    "The [overlap coefficient](https://en.wikipedia.org/wiki/Overlap_coefficient) is a useful measure of similarity, but is limited when sets are different in size. For instance, a language like _Pirahã_ will be ranked as closer to English than it should be, simply because Pirahã has very few phonemes (and those phonemes happen to be a subset of English's phonemes). In other words, languages with small phoneme inventories like Pirahã will be closer to _every_ other language, so this metric is also measuring \"smallness\" of a language's phoneme inventory, which we might not care about.\n",
    "\n",
    "On the other hand, the overlap coefficient might be useful if you consider it _asymmetrically_ - an English speaker who wants to learn Pirahã should have an easier time learning the phonemes than an English speaker learning Thai. However, distance metrics are always symmetrical, so the distance between English and Pirahã is the same as the distance from Pirahã to English - so this metric is only useful when you consider going from a large-inventory language to a small-inventory language, which requires additional logic outside the metric itself.\n",
    "\n",
    "__Note__: I subtracted the overlap coefficient from `1` in order to convert this to distance: larger values equal greater distance."
   ]
  },
  {
   "cell_type": "code",
   "execution_count": 62,
   "id": "polyphonic-mixer",
   "metadata": {},
   "outputs": [
    {
     "name": "stdout",
     "output_type": "stream",
     "text": [
      "These are all the phonemes that occur in English:\n",
      "['b', 'd', 'd̠ʒ', 'f', 'h', 'j', 'k', 'l', 'm', 'n', 'p', 'r', 's', 't', 't̠ʃ', 'v', 'w', 'z', 'ð', 'ŋ', 'ɡ', 'ʃ', 'ʒ', 'θ', 'a', 'aɪ', 'aʊ', 'eɪ', 'eː', 'iɛ', 'iː', 'ɑː', 'ɒ', 'ɔɪ', 'ə', 'ɛ', 'ɛʉ', 'ɪ', 'ʉː', 'ʊ']\n"
     ]
    }
   ],
   "source": [
    "# Create mappings like \"English\": [\"a\", \"e\", \"i\", \"b\", ...]\n",
    "res = engine.execute(\"\"\"\n",
    "               SELECT ISO6393, group_concat(DISTINCT Phoneme)\n",
    "               FROM phoible\n",
    "               GROUP BY InventoryID, ISO6393\n",
    "               \"\"\"\n",
    "              ).fetchall()\n",
    "\n",
    "# Turn this into a dict.\n",
    "# Warning: this uses LanguageName as the key, which is not unique\n",
    "# so if there two languages called Chinese, only one will make it into this dict\n",
    "simple_mapping = {k: v.split(\",\") for k, v in res}\n",
    "\n",
    "# # Show an example.\n",
    "print(\"These are all the phonemes that occur in English:\")\n",
    "print(simple_mapping[\"eng\"])"
   ]
  },
  {
   "cell_type": "markdown",
   "id": "opened-prayer",
   "metadata": {},
   "source": [
    "Note : We are losing some information when using ISO69393 (eg English Dialects), but better for our use."
   ]
  },
  {
   "cell_type": "code",
   "execution_count": 88,
   "id": "bacterial-cookie",
   "metadata": {},
   "outputs": [
    {
     "name": "stdout",
     "output_type": "stream",
     "text": [
      "There are 40 phonemes in  English\n"
     ]
    }
   ],
   "source": [
    "print(f\"There are {len(simple_mapping['eng'])} phonemes in  English\")"
   ]
  },
  {
   "cell_type": "code",
   "execution_count": 65,
   "id": "quality-evolution",
   "metadata": {},
   "outputs": [
    {
     "name": "stdout",
     "output_type": "stream",
     "text": [
      "The overlap distance between English and French is 0.412\n",
      "The overlap distance between English and German is 0.425\n",
      "The overlap distance between French and German is 0.500\n"
     ]
    }
   ],
   "source": [
    "# Define the overlap distance between two sets.\n",
    "def overlap_distance(a, b):\n",
    "    a, b = set(a), set(b)\n",
    "    \n",
    "    return 1 - len(a.intersection(b)) / min([len(a), len(b)])\n",
    "\n",
    "\n",
    "# Calculate distances between some languages\n",
    "overlap_d_eng_fr = overlap_distance(simple_mapping[\"eng\"], simple_mapping[\"fra\"])\n",
    "overlap_d_eng_germ = overlap_distance(simple_mapping[\"eng\"], simple_mapping[\"deu\"])\n",
    "overlap_d_fr_germ = overlap_distance(simple_mapping[\"fra\"], simple_mapping[\"deu\"])\n",
    "\n",
    "print(f\"The overlap distance between English and French is {overlap_d_eng_fr:.3f}\")\n",
    "print(f\"The overlap distance between English and German is {overlap_d_eng_germ:.3f}\")\n",
    "print(f\"The overlap distance between French and German is {overlap_d_fr_germ:.3f}\")"
   ]
  },
  {
   "cell_type": "code",
   "execution_count": 66,
   "id": "funny-message",
   "metadata": {},
   "outputs": [],
   "source": [
    "# Now let's find the overlap distance between English and every other language.\n",
    "overlap_distance_to_eng = [(overlap_distance(simple_mapping[\"eng\"], simple_mapping[lang]), lang) for lang in simple_mapping]"
   ]
  },
  {
   "cell_type": "code",
   "execution_count": 67,
   "id": "original-charter",
   "metadata": {},
   "outputs": [
    {
     "name": "stdout",
     "output_type": "stream",
     "text": [
      "The 50 languages with the closest overlap distance to American English:\n"
     ]
    },
    {
     "data": {
      "text/plain": [
       "[(0.17391304347826086, 'ivv'),\n",
       " (0.1785714285714286, 'diu'),\n",
       " (0.19999999999999996, 'xmt'),\n",
       " (0.19999999999999996, 'akl'),\n",
       " (0.19999999999999996, 'hil'),\n",
       " (0.2068965517241379, 'hag'),\n",
       " (0.20833333333333337, 'ndj'),\n",
       " (0.20833333333333337, 'ban'),\n",
       " (0.21052631578947367, 'kto'),\n",
       " (0.21052631578947367, 'amn'),\n",
       " (0.21052631578947367, 'ceb'),\n",
       " (0.21739130434782605, 'mky'),\n",
       " (0.21739130434782605, 'dbj'),\n",
       " (0.21875, 'dzg'),\n",
       " (0.2272727272727273, 'mkw'),\n",
       " (0.23076923076923073, 'zoh'),\n",
       " (0.23076923076923073, 'brc'),\n",
       " (0.23076923076923073, 'wmw'),\n",
       " (0.23333333333333328, 'zsm'),\n",
       " (0.23809523809523814, 'brx'),\n",
       " (0.23809523809523814, 'txx'),\n",
       " (0.23809523809523814, 'cho'),\n",
       " (0.23809523809523814, 'duo'),\n",
       " (0.23809523809523814, 'sgz'),\n",
       " (0.23809523809523814, 'hoa'),\n",
       " (0.23809523809523814, 'pag'),\n",
       " (0.24, 'iba'),\n",
       " (0.24, 'bug'),\n",
       " (0.25, 'ain'),\n",
       " (0.25, 'lia'),\n",
       " (0.25, 'lun'),\n",
       " (0.25, 'btx'),\n",
       " (0.2571428571428571, 'tuq'),\n",
       " (0.25806451612903225, 'bom'),\n",
       " (0.25806451612903225, 'ind'),\n",
       " (0.25806451612903225, 'bun'),\n",
       " (0.2592592592592593, 'bbc'),\n",
       " (0.2592592592592593, 'mlq'),\n",
       " (0.2592592592592593, 'toq'),\n",
       " (0.2592592592592593, 'gay'),\n",
       " (0.2592592592592593, 'mbp'),\n",
       " (0.26086956521739135, 'gvf'),\n",
       " (0.26086956521739135, 'imn'),\n",
       " (0.26086956521739135, 'aro'),\n",
       " (0.26315789473684215, 'slu'),\n",
       " (0.2666666666666667, 'ekg'),\n",
       " (0.2666666666666667, 'fvr'),\n",
       " (0.2666666666666667, 'ncu'),\n",
       " (0.2666666666666667, 'nnm'),\n",
       " (0.2692307692307693, 'snv')]"
      ]
     },
     "execution_count": 67,
     "metadata": {},
     "output_type": "execute_result"
    }
   ],
   "source": [
    "print(\"The 50 languages with the closest overlap distance to American English:\")\n",
    "# Note: I am indexing from the third item in the list\n",
    "# because the first two will always be \"American English\" and \"English (American)\"\n",
    "sorted(overlap_distance_to_eng, key=lambda x: x[0])[2:52]"
   ]
  },
  {
   "cell_type": "markdown",
   "id": "activated-calcium",
   "metadata": {},
   "source": [
    "The results returned by this algorithm aren't unreasonable: many of the top languages are other English dialects, as well as closely related languages like Scots and German. This is much better than random, but there are some unexpected languages like Burmese. I think we can use an even better distance metric, Jaccard distance, which I introduce in the next section. Before that though, let's check out some of the least similar languages:"
   ]
  },
  {
   "cell_type": "code",
   "execution_count": 68,
   "id": "overhead-story",
   "metadata": {},
   "outputs": [
    {
     "name": "stdout",
     "output_type": "stream",
     "text": [
      "The 25 languages with the furthest overlap distance from English:\n"
     ]
    },
    {
     "data": {
      "text/plain": [
       "[(0.775, 'kjq'),\n",
       " (0.775, 'ntu'),\n",
       " (0.775, 'tli'),\n",
       " (0.7777777777777778, 'klu'),\n",
       " (0.7777777777777778, 'ggr'),\n",
       " (0.7777777777777778, 'yxm'),\n",
       " (0.78125, 'umg'),\n",
       " (0.782608695652174, 'nam'),\n",
       " (0.7837837837837838, 'kpv'),\n",
       " (0.7837837837837838, 'xas'),\n",
       " (0.7837837837837838, 'koi'),\n",
       " (0.7857142857142857, 'kjn'),\n",
       " (0.7857142857142857, 'aid'),\n",
       " (0.7916666666666666, 'mwp'),\n",
       " (0.7916666666666666, 'gui'),\n",
       " (0.7931034482758621, 'zmv'),\n",
       " (0.7931034482758621, 'lnj'),\n",
       " (0.8, 'naq'),\n",
       " (0.8, 'chq'),\n",
       " (0.8, 'rut'),\n",
       " (0.8, 'mdf'),\n",
       " (0.8064516129032258, 'typ'),\n",
       " (0.8157894736842105, 'cpn'),\n",
       " (0.8275862068965517, 'wic'),\n",
       " (0.84375, 'new')]"
      ]
     },
     "execution_count": 68,
     "metadata": {},
     "output_type": "execute_result"
    }
   ],
   "source": [
    "print(\"The 25 languages with the furthest overlap distance from English:\")\n",
    "sorted(overlap_distance_to_eng, key=lambda x: x[0])[-25:]"
   ]
  },
  {
   "cell_type": "markdown",
   "id": "structured-trail",
   "metadata": {},
   "source": [
    "### Jaccard Distance\n",
    "\n",
    "A more generally applicable metric, which accounts for differing set sizes, is the [Jaccard Distance](https://en.wikipedia.org/wiki/Jaccard_index), aka intersection over union. I repeated the same examples below, except I changed the distance metric. Notice that _German_ is ranked as closest to English, which matches our intuition about closeness (Thai and Pirahã are not in the same [language family](https://en.wikipedia.org/wiki/Germanic_languages) that English and German belong to)."
   ]
  },
  {
   "cell_type": "code",
   "execution_count": 71,
   "id": "varying-satin",
   "metadata": {},
   "outputs": [
    {
     "name": "stdout",
     "output_type": "stream",
     "text": [
      "The Jaccard distance between English and Frenhc is 0.412\n",
      "The Jaccard distance between English and German is 0.425\n",
      "The Jaccard distance between French and German is 0.500\n"
     ]
    }
   ],
   "source": [
    "# Define the Jaccard distance between two sets.\n",
    "def jaccard_distance(a, b):\n",
    "    a, b = set(a), set(b)\n",
    "    \n",
    "    return 1 - len(a.intersection(b)) / len(a.union(b))\n",
    "\n",
    "\n",
    "# Calculate distances between some languages\n",
    "jaccard_d_eng_fr = overlap_distance(simple_mapping[\"eng\"], simple_mapping[\"fra\"])\n",
    "jaccard_d_eng_germ = overlap_distance(simple_mapping[\"eng\"], simple_mapping[\"deu\"])\n",
    "jaccard_d_fr_germ = overlap_distance(simple_mapping[\"fra\"], simple_mapping[\"deu\"])\n",
    "\n",
    "print(f\"The Jaccard distance between English and French is {jaccard_d_eng_fr:.3f}\")\n",
    "print(f\"The Jaccard distance between English and German is {jaccard_d_eng_germ:.3f}\")\n",
    "print(f\"The Jaccard distance between French and German is {jaccard_d_fr_germ:.3f}\")"
   ]
  },
  {
   "cell_type": "code",
   "execution_count": 72,
   "id": "eastern-kidney",
   "metadata": {},
   "outputs": [],
   "source": [
    "# Now let's find the jaccard distance between English and every other language.\n",
    "jaccard_distance_to_eng = [(jaccard_distance(simple_mapping[\"eng\"], simple_mapping[lang]), lang) for lang in simple_mapping]"
   ]
  },
  {
   "cell_type": "code",
   "execution_count": 73,
   "id": "jewish-science",
   "metadata": {},
   "outputs": [
    {
     "name": "stdout",
     "output_type": "stream",
     "text": [
      "The 50 languages with the closest Jaccard distance to  English:\n"
     ]
    },
    {
     "data": {
      "text/plain": [
       "[(0.46808510638297873, 'dzg'),\n",
       " (0.4693877551020408, 'tuq'),\n",
       " (0.48888888888888893, 'diu'),\n",
       " (0.5, 'amo'),\n",
       " (0.5, 'hag'),\n",
       " (0.5, 'lun'),\n",
       " (0.5106382978723405, 'zsm'),\n",
       " (0.5192307692307692, 'aig'),\n",
       " (0.5208333333333333, 'bom'),\n",
       " (0.5208333333333333, 'ind'),\n",
       " (0.5208333333333333, 'bun'),\n",
       " (0.5263157894736843, 'fmp'),\n",
       " (0.5263157894736843, 'jer'),\n",
       " (0.5283018867924528, 'ige'),\n",
       " (0.5294117647058824, 'bzj'),\n",
       " (0.5294117647058824, 'fip'),\n",
       " (0.5333333333333333, 'cym'),\n",
       " (0.5344827586206897, 'xsm'),\n",
       " (0.5357142857142857, 'sld'),\n",
       " (0.5384615384615384, 'kdh'),\n",
       " (0.5384615384615384, 'okr'),\n",
       " (0.5384615384615384, 'kwl'),\n",
       " (0.5384615384615384, 'blo'),\n",
       " (0.5384615384615384, 'yai'),\n",
       " (0.54, 'lmp'),\n",
       " (0.5416666666666667, 'fvr'),\n",
       " (0.5416666666666667, 'ncu'),\n",
       " (0.5454545454545454, 'bgj'),\n",
       " (0.5454545454545454, 'psi'),\n",
       " (0.5471698113207547, 'swh'),\n",
       " (0.5471698113207547, 'ses'),\n",
       " (0.5471698113207547, 'sur'),\n",
       " (0.5490196078431373, 'mrt'),\n",
       " (0.5510204081632653, 'igb'),\n",
       " (0.5510204081632653, 'doy'),\n",
       " (0.5517241379310345, 'fod'),\n",
       " (0.5517241379310345, 'mnj'),\n",
       " (0.5535714285714286, 'bib'),\n",
       " (0.5535714285714286, 'crg'),\n",
       " (0.5555555555555556, 'pil'),\n",
       " (0.5555555555555556, 'iby'),\n",
       " (0.5555555555555556, 'siz'),\n",
       " (0.5555555555555556, 'hil'),\n",
       " (0.5576923076923077, 'mlt'),\n",
       " (0.5576923076923077, 'kcn'),\n",
       " (0.5576923076923077, 'wym'),\n",
       " (0.56, 'pcm'),\n",
       " (0.56, 'ahi'),\n",
       " (0.56, 'suw'),\n",
       " (0.5625, 'hay')]"
      ]
     },
     "execution_count": 73,
     "metadata": {},
     "output_type": "execute_result"
    }
   ],
   "source": [
    "print(\"The 50 languages with the closest Jaccard distance to  English:\")\n",
    "sorted(jaccard_distance_to_eng, key=lambda x: x[0])[2:52]"
   ]
  },
  {
   "cell_type": "code",
   "execution_count": 112,
   "id": "completed-chick",
   "metadata": {},
   "outputs": [],
   "source": [
    "import itertools\n",
    "\n",
    "#missing \"fas\" farsi. Instead use pes\n",
    "lang_list=[\"cat\",\"cym\",\"deu\",\"eng\",\"pes\",\"fra\",\"ita\",\"kab\",\"kin\"]\n",
    "\n",
    "all_combinations = list(itertools.combinations(lang_list, 2))\n",
    "jaccard_distances = [((a,b),jaccard_distance(simple_mapping[a], simple_mapping[b])) for a,b in all_combinations]"
   ]
  },
  {
   "cell_type": "code",
   "execution_count": 113,
   "id": "accomplished-country",
   "metadata": {},
   "outputs": [
    {
     "data": {
      "text/plain": [
       "[(('cat', 'cym'), 0.8783783783783784),\n",
       " (('cat', 'deu'), 0.8636363636363636),\n",
       " (('cat', 'eng'), 0.828125),\n",
       " (('cat', 'pes'), 0.8771929824561404),\n",
       " (('cat', 'fra'), 0.7894736842105263),\n",
       " (('cat', 'ita'), 0.7),\n",
       " (('cat', 'kab'), 0.8596491228070176),\n",
       " (('cat', 'kin'), 0.782608695652174),\n",
       " (('cym', 'deu'), 0.6031746031746033),\n",
       " (('cym', 'eng'), 0.5333333333333333),\n",
       " (('cym', 'pes'), 0.7377049180327868),\n",
       " (('cym', 'fra'), 0.7384615384615385),\n",
       " (('cym', 'ita'), 0.7213114754098361),\n",
       " (('cym', 'kab'), 0.8),\n",
       " (('cym', 'kin'), 0.6712328767123288),\n",
       " (('deu', 'eng'), 0.5964912280701755),\n",
       " (('deu', 'pes'), 0.6730769230769231),\n",
       " (('deu', 'fra'), 0.7017543859649122),\n",
       " (('deu', 'ita'), 0.679245283018868),\n",
       " (('deu', 'kab'), 0.7931034482758621),\n",
       " (('deu', 'kin'), 0.609375),\n",
       " (('eng', 'pes'), 0.7222222222222222),\n",
       " (('eng', 'fra'), 0.6296296296296297),\n",
       " (('eng', 'ita'), 0.6538461538461539),\n",
       " (('eng', 'kab'), 0.7272727272727273),\n",
       " (('eng', 'kin'), 0.6307692307692307),\n",
       " (('pes', 'fra'), 0.7647058823529411),\n",
       " (('pes', 'ita'), 0.7708333333333334),\n",
       " (('pes', 'kab'), 0.7959183673469388),\n",
       " (('pes', 'kin'), 0.7),\n",
       " (('fra', 'ita'), 0.47619047619047616),\n",
       " (('fra', 'kab'), 0.8148148148148149),\n",
       " (('fra', 'kin'), 0.639344262295082),\n",
       " (('ita', 'kab'), 0.75),\n",
       " (('ita', 'kin'), 0.5892857142857143),\n",
       " (('kab', 'kin'), 0.746031746031746)]"
      ]
     },
     "execution_count": 113,
     "metadata": {},
     "output_type": "execute_result"
    }
   ],
   "source": [
    "jaccard_distances"
   ]
  },
  {
   "cell_type": "markdown",
   "id": "western-stroke",
   "metadata": {},
   "source": [
    "The results returned by this algorithm seem reasonable. The closest languages to American English are other English dialects and German, a closely related language. Most of the other languages on the list make sense: they're English-based creoles, Western European languages, languages influenced by British colonization (Maltest), or other Indo-European languages. Some languages, however, seem out of place: there are many languages from the Niger-Congo family and some Austronesian languages. We'll see if the same kind of languages are returned by the other metrics.\n",
    "\n",
    "Also, let's peek at which languages the algorithm says are furthest from English."
   ]
  },
  {
   "cell_type": "code",
   "execution_count": 28,
   "id": "juvenile-judges",
   "metadata": {},
   "outputs": [
    {
     "name": "stdout",
     "output_type": "stream",
     "text": [
      "The 25 languages with the furthest Jaccard distance from American English:\n"
     ]
    },
    {
     "data": {
      "text/plain": [
       "[(0.9310344827586207, \"Ngan'gityemerri\"),\n",
       " (0.9322033898305084, 'Kala Kawaw Ya'),\n",
       " (0.9322033898305084, 'Kala Lagaw Ya'),\n",
       " (0.9333333333333333, 'HIGHLAND CHINANTEC'),\n",
       " (0.9333333333333333, 'PANARE'),\n",
       " (0.9344262295081968, 'SEBEI'),\n",
       " (0.935483870967742, 'KLAO'),\n",
       " (0.9361702127659575, 'PIRAHA'),\n",
       " (0.9384615384615385, 'IATE'),\n",
       " (0.9384615384615385, 'Paraguayan Guaraní'),\n",
       " (0.9387755102040817, 'NASIOI'),\n",
       " (0.94, 'RORO'),\n",
       " (0.94, 'TAORIPI'),\n",
       " (0.9402985074626866, 'ITELMEN'),\n",
       " (0.9411764705882353, 'GADSUP'),\n",
       " (0.9417989417989419, '!Xóõ'),\n",
       " (0.9454545454545454, 'IRARUTU'),\n",
       " (0.9473684210526316, 'ACHE'),\n",
       " (0.9473684210526316, 'KALIAI'),\n",
       " (0.9473684210526316, 'NAMA'),\n",
       " (0.9482758620689655, 'INUIT'),\n",
       " (0.9538461538461538, 'WICHITA'),\n",
       " (0.9649122807017544, 'MAXAKALI'),\n",
       " (0.9795918367346939, 'ROTOKAS'),\n",
       " (0.9838709677419355, 'Chiriguano')]"
      ]
     },
     "execution_count": 28,
     "metadata": {},
     "output_type": "execute_result"
    }
   ],
   "source": [
    "print(\"The 25 languages with the furthest Jaccard distance from American English:\")\n",
    "sorted(jaccard_distance_to_eng, key=lambda x: x[0])[-25:]"
   ]
  },
  {
   "cell_type": "markdown",
   "id": "incident-passion",
   "metadata": {},
   "source": [
    "I'm happy that _!Xóõ_ made it onto this list: !Xóõ is a language with a __monstrous__ number of consonants, including [click sounds](https://en.wikipedia.org/wiki/Click_consonant) and tones!"
   ]
  },
  {
   "cell_type": "code",
   "execution_count": 29,
   "id": "human-breakdown",
   "metadata": {},
   "outputs": [
    {
     "name": "stdout",
     "output_type": "stream",
     "text": [
      "These are all the phonemes that occur in !Xóõ:\n",
      "['b', 'd', 'dx', 'dʱ', 'dʼkxʼ', 'd̪', 'd̪x', 'd̪ʱ', 'd̪ʼkxʼ', 'f', 'h', 'k', 'kxʼ', 'kǀ', 'kǀh', 'kǀkxʼ', 'kǀx', 'kǀʔ', 'kǀʰ', 'kǁ', 'kǁh', 'kǁkxʼ', 'kǁx', 'kǁʔ', 'kǁʰ', 'kǂ', 'kǂh', 'kǂkxʼ', 'kǂx', 'kǂʔ', 'kǂʰ', 'kǃ', 'kǃh', 'kǃkxʼ', 'kǃx', 'kǃʔ', 'kǃʰ', 'kʘ', 'kʘh', 'kʘkxʼ', 'kʘx', 'kʘʔ', 'kʘʰ', 'kʰ', 'kʼ', 'l', 'm', 'n̪', 'p', 'pʰ', 'pʼkxʼ', 'q', 'qǀ', 'qǀʼ', 'qǁ', 'qǁʼ', 'qǂ', 'qǂʼ', 'qǃ', 'qǃʼ', 'qʘ', 'qʘʼ', 'qʰ', 'qʼ', 's', 't', 'tx', 'tʰ', 'tʼ', 'tʼkxʼ', 't̪', 't̪x', 't̪ʰ', 't̪ʼ', 't̪ʼkxʼ', 'x', 'ŋǀ', 'ŋǁ', 'ŋǂ', 'ŋǃ', 'ŋʘ', 'ŋ̊ǀ', 'ŋ̊ǁ', 'ŋ̊ǂ', 'ŋ̊ǃ', 'ŋ̊ʘ', 'ɟ', 'ɡ', 'ɡǀ', 'ɡǀkxʼ', 'ɡǀkʰ', 'ɡǀx', 'ɡǁ', 'ɡǁkxʼ', 'ɡǁkʰ', 'ɡǁx', 'ɡǂ', 'ɡǂkxʼ', 'ɡǂkʰ', 'ɡǂx', 'ɡǃ', 'ɡǃkxʼ', 'ɡǃkʰ', 'ɡǃx', 'ɡʘ', 'ɡʘkxʼ', 'ɡʘkʰ', 'ɡʘx', 'ɡʱ', 'ɡʼkxʼ', 'ɢ', 'ɢǀ', 'ɢǀqʰ', 'ɢǁ', 'ɢǁqʰ', 'ɢǂ', 'ɢǃ', 'ɢǃqʰ', 'ɢʘ', 'ɢʱ', 'ɲ', 'ɸ', 'ʔ', 'ʔŋǀ', 'ʔŋǁ', 'ʔŋǂ', 'ʔŋǃ', 'ʔŋʘ', 'ˀm', 'ˀn', '˦', '˧', '˨', 'a', 'aˤ', 'ã', 'a̤', 'a̰', 'aᴱ', 'e', 'eˤ', 'ẽ', 'e̤', 'ḛ', 'i', 'iˤ', 'ĩ', 'i̤', 'ḭ', 'o', 'oˤ', 'õ', 'o̤', 'o̰', 'oᴱ', 'u', 'uˤ', 'ũ', 'ṳ', 'ṵ', 'uᴱ']\n"
     ]
    }
   ],
   "source": [
    "print(\"These are all the phonemes that occur in !Xóõ:\")\n",
    "print(simple_mapping[\"!Xóõ\"])"
   ]
  },
  {
   "cell_type": "markdown",
   "id": "superior-windsor",
   "metadata": {},
   "source": [
    "### Simple Matching Coefficient\n",
    "\n",
    "[The Simple Matching Coefficient](https://en.wikipedia.org/wiki/Simple_matching_coefficient) for two equal-length arrays is the number of matching elements divided by the length of the array. This only works for vectors that are equal length, so below I map each language to a binary vector that represents the presence or absence of a given phoneme.\n",
    "\n",
    "Because the average inventory size is 34.9 (see above) and the total number of phonemes is 3164 (see below), each binary vector will be sparse (mostly zeros), meaning that distance measures will all be _close_ to each other. However, even though the numbers themselves are close, distance can still be ranked, and the total differences can always be scaled.\n",
    "\n",
    "I subtracted this coefficient from `1` to turn it into a distance metric.\n",
    "\n",
    "Note: [Hamming Distance](https://en.wikipedia.org/wiki/Hamming_distance) is the same as the simple matching coefficient except is defined between equal-length strings instead of equal-length arrays."
   ]
  },
  {
   "cell_type": "code",
   "execution_count": 95,
   "id": "choice-sigma",
   "metadata": {},
   "outputs": [
    {
     "name": "stdout",
     "output_type": "stream",
     "text": [
      "Here is what some of the phoneme data looks like: ['h', 'j', 'k', 'kʰ', 'kˀ', 'l', 'm', 'n', 'p', 'pʰ']\n",
      "There are 3164 phonemes total\n"
     ]
    }
   ],
   "source": [
    "phoneme_list = engine.execute(\"\"\"\n",
    "                SELECT GROUP_CONCAT(DISTINCT(Phoneme)) FROM phoible\n",
    "               \"\"\"\n",
    "              ).fetchall()\n",
    "\n",
    "# List of distinct phonemes\n",
    "total_phoneme_inventory = list(phoneme_list[0])[0].split(\",\")\n",
    "print(f\"Here is what some of the phoneme data looks like: {total_phoneme_inventory[:10]}\")\n",
    "print(f\"There are {len(total_phoneme_inventory)} phonemes total\")"
   ]
  },
  {
   "cell_type": "code",
   "execution_count": 96,
   "id": "ancient-belize",
   "metadata": {},
   "outputs": [],
   "source": [
    "# Create mapping like \"English\": [1, 1, 0, 1, ...]\n",
    "def create_binary_encoding(language_phoneme_inventory, total_phoneme_inventory=total_phoneme_inventory):\n",
    "    return [1 if phone in language_phoneme_inventory else 0 for phone in total_phoneme_inventory]\n",
    "\n",
    "\n",
    "binary_encoding = {k: create_binary_encoding(v) for k, v in simple_mapping.items()}"
   ]
  },
  {
   "cell_type": "code",
   "execution_count": 98,
   "id": "alone-ecuador",
   "metadata": {},
   "outputs": [
    {
     "data": {
      "text/plain": [
       "[1, 1, 1, 0, 0, 1, 1, 1, 1, 0]"
      ]
     },
     "execution_count": 98,
     "metadata": {},
     "output_type": "execute_result"
    }
   ],
   "source": [
    "# Show what part of the binary encoding for English looks like\n",
    "binary_encoding[\"eng\"][:10]"
   ]
  },
  {
   "cell_type": "code",
   "execution_count": 99,
   "id": "express-vacuum",
   "metadata": {},
   "outputs": [
    {
     "data": {
      "text/plain": [
       "40"
      ]
     },
     "execution_count": 99,
     "metadata": {},
     "output_type": "execute_result"
    }
   ],
   "source": [
    "# Confirm the number of phonemes in American English\n",
    "sum(binary_encoding[\"eng\"])"
   ]
  },
  {
   "cell_type": "code",
   "execution_count": 100,
   "id": "prospective-family",
   "metadata": {},
   "outputs": [],
   "source": [
    "# Define the simple matching coefficient between two equal-length vectors\n",
    "def simple_matching_coef(a, b):\n",
    "    len_overlap = len([1 for i, j in zip(a, b) if i == j])\n",
    "    \n",
    "    return 1 - len_overlap / len(a)\n",
    "\n"
   ]
  },
  {
   "cell_type": "code",
   "execution_count": 101,
   "id": "immune-championship",
   "metadata": {},
   "outputs": [],
   "source": [
    "# Now let's find the matching distance between English and every other language.\n",
    "simple_distance_to_eng = [(simple_matching_coef(binary_encoding[\"eng\"], binary_encoding[lang]), lang) for lang in simple_mapping]"
   ]
  },
  {
   "cell_type": "code",
   "execution_count": 36,
   "id": "sublime-orlando",
   "metadata": {},
   "outputs": [
    {
     "name": "stdout",
     "output_type": "stream",
     "text": [
      "The 50 languages with the smallest simple matching distance from English:\n"
     ]
    },
    {
     "data": {
      "text/plain": [
       "[(0.006953223767383054, 'English (British)'),\n",
       " (0.007901390644753481, 'English'),\n",
       " (0.008849557522123908, 'Persian'),\n",
       " (0.008849557522123908, 'kwangari'),\n",
       " (0.009165613147914087, 'English (Australian)'),\n",
       " (0.009481668773704155, 'Hanga'),\n",
       " (0.009481668773704155, 'Low German'),\n",
       " (0.009481668773704155, 'Scots'),\n",
       " (0.009481668773704155, 'Farsi'),\n",
       " (0.009797724399494334, 'BASHKIR'),\n",
       " (0.009797724399494334, 'Daza'),\n",
       " (0.009797724399494334, 'diriku'),\n",
       " (0.009797724399494334, 'Northern Kurdish'),\n",
       " (0.010113780025284402, 'IVATAN'),\n",
       " (0.010113780025284402, 'Teda'),\n",
       " (0.010113780025284402, 'Belizean Creole'),\n",
       " (0.010113780025284402, 'kwezo'),\n",
       " (0.010113780025284402, 'Sherbro'),\n",
       " (0.010113780025284402, 'Cebuano'),\n",
       " (0.010113780025284402, 'Juhuri'),\n",
       " (0.010429835651074582, 'German'),\n",
       " (0.010429835651074582, 'Azerbaijani'),\n",
       " (0.010429835651074582, 'KERA'),\n",
       " (0.010429835651074582, 'KUNAMA'),\n",
       " (0.010429835651074582, 'FARSI'),\n",
       " (0.010429835651074582, 'TUNICA'),\n",
       " (0.010429835651074582, 'Lunda'),\n",
       " (0.010429835651074582, 'Awtuw'),\n",
       " (0.010429835651074582, 'Ndamba'),\n",
       " (0.010429835651074582, 'Salasca Quechua'),\n",
       " (0.010429835651074582, 'Standard Malay'),\n",
       " (0.01074589127686476, 'Batak'),\n",
       " (0.01074589127686476, 'Tunica'),\n",
       " (0.01074589127686476, 'Maltese'),\n",
       " (0.01074589127686476, 'Luo'),\n",
       " (0.01074589127686476, 'Rumanian'),\n",
       " (0.01074589127686476, 'AMO'),\n",
       " (0.01074589127686476, 'ALAMBLAK'),\n",
       " (0.01074589127686476, 'JOMANG'),\n",
       " (0.01074589127686476, 'Berom'),\n",
       " (0.01074589127686476, 'Nubi'),\n",
       " (0.01074589127686476, 'Oku'),\n",
       " (0.01074589127686476, 'Jamaican Creole'),\n",
       " (0.01074589127686476, 'Toba-Batak'),\n",
       " (0.01074589127686476, 'Kihungan'),\n",
       " (0.01074589127686476, 'Indonesian'),\n",
       " (0.01074589127686476, 'Boro'),\n",
       " (0.01074589127686476, 'Hiligaynon'),\n",
       " (0.01074589127686476, 'Tausug (Suluk)'),\n",
       " (0.01074589127686476, 'greek Thrace Xoraxane Romane')]"
      ]
     },
     "execution_count": 36,
     "metadata": {},
     "output_type": "execute_result"
    }
   ],
   "source": [
    "print(\"The 50 languages with the smallest simple matching distance from English:\")\n",
    "sorted(simple_distance_to_eng, key=lambda x: x[0])[2:52]"
   ]
  },
  {
   "cell_type": "markdown",
   "id": "national-karaoke",
   "metadata": {},
   "source": [
    "The results returned by this algorithm also seem reasonable. Again, many of the closest languages are other English dialects, other Indo-European langauges, and some creole languages. But I think we can do better..."
   ]
  },
  {
   "cell_type": "code",
   "execution_count": 37,
   "id": "front-victorian",
   "metadata": {},
   "outputs": [
    {
     "name": "stdout",
     "output_type": "stream",
     "text": [
      "The 25 languages with the furthest simple matching distance from English:\n"
     ]
    },
    {
     "data": {
      "text/plain": [
       "[(0.02718078381795197, 'LAK'),\n",
       " (0.02749683944374215, 'Yeyi'),\n",
       " (0.027812895069532217, 'Tofa'),\n",
       " (0.028128950695322397, 'Lak'),\n",
       " (0.028445006321112465, 'PARAUK'),\n",
       " (0.028445006321112465, 'Mfumte'),\n",
       " (0.028761061946902644, 'Nizaa'),\n",
       " (0.02939317319848289, 'Moroccan Arabic'),\n",
       " (0.02939317319848289, 'Scottish Gaelic'),\n",
       " (0.03002528445006325, 'Xhosa'),\n",
       " (0.03002528445006325, 'Tashlhiyt Berber'),\n",
       " (0.03002528445006325, 'Nangchenpa Tibetan'),\n",
       " (0.030341340075853318, 'Rigwe'),\n",
       " (0.030341340075853318, 'Elfdalian'),\n",
       " (0.030657395701643497, 'Dan'),\n",
       " (0.031289506953223745, 'Hindi-Urdu'),\n",
       " (0.0331858407079646, 'Lezgian'),\n",
       " (0.0331858407079646, 'Shixing'),\n",
       " (0.03476611883691527, 'ARCHI'),\n",
       " (0.0357142857142857, 'Mbembe'),\n",
       " (0.04140328697850826, '!Xun'),\n",
       " (0.042351453855878685, 'Soghpo Tibetan'),\n",
       " (0.04582806573957021, 'Kildin Saami'),\n",
       " (0.04614412136536028, '!XU'),\n",
       " (0.05625790139064479, '!Xóõ')]"
      ]
     },
     "execution_count": 37,
     "metadata": {},
     "output_type": "execute_result"
    }
   ],
   "source": [
    "print(\"The 25 languages with the furthest simple matching distance from English:\")\n",
    "sorted(simple_distance_to_eng, key=lambda x: x[0])[-25:]"
   ]
  },
  {
   "cell_type": "code",
   "execution_count": 102,
   "id": "precise-beijing",
   "metadata": {},
   "outputs": [
    {
     "name": "stdout",
     "output_type": "stream",
     "text": [
      "The distributions of distances from English seems to be normally distributed\n"
     ]
    },
    {
     "data": {
      "image/png": "[encoded data removed]",
      "text/plain": [
       "<Figure size 432x288 with 1 Axes>"
      ]
     },
     "metadata": {
      "needs_background": "light"
     },
     "output_type": "display_data"
    }
   ],
   "source": [
    "# Let's also explore the distribution of distances\n",
    "\n",
    "plt.xlabel('distance from English', fontsize=16)\n",
    "plt.ylabel('# of languages', fontsize=16)\n",
    "\n",
    "sns.histplot(data=[i for i, _ in simple_distance_to_eng], bins=50, element=\"poly\")\n",
    "print(\"The distributions of distances from English seems to be normally distributed\")"
   ]
  },
  {
   "cell_type": "markdown",
   "id": "legendary-overview",
   "metadata": {},
   "source": [
    "### Vector Space Similarity\n",
    "\n",
    "In this algorithm, I first map each phoneme to a set of binary features. There are 37 of these features. When comparing two languages, I calculate the distance between each phoneme in each language and take the average of the closest features. The sub-distance metric I use is jaccard distance. \n"
   ]
  },
  {
   "cell_type": "code",
   "execution_count": 103,
   "id": "young-clearance",
   "metadata": {},
   "outputs": [
    {
     "name": "stdout",
     "output_type": "stream",
     "text": [
      "There are 37 segment features total:\n",
      "['tone', 'stress', 'syllabic', 'short', 'long', 'consonantal', 'sonorant', 'continuant', 'delayedRelease', 'approximant', 'tap', 'trill', 'nasal', 'lateral', 'labial', 'round', 'labiodental', 'coronal', 'anterior', 'distributed', 'strident', 'dorsal', 'high', 'low', 'front', 'back', 'tense', 'retractedTongueRoot', 'advancedTongueRoot', 'periodicGlottalSource', 'epilaryngealSource', 'spreadGlottis', 'constrictedGlottis', 'fortis', 'raisedLarynxEjective', 'loweredLarynxImplosive', 'click']\n"
     ]
    }
   ],
   "source": [
    "# Columns 11 and onward are phoneme feature columns\n",
    "# I decided not to use the column `SegmentClass` because it can be inferred from the other features\n",
    "cols = list(df.columns[11:])\n",
    "print(f\"There are {len(cols)} segment features total:\")\n",
    "print(cols)"
   ]
  },
  {
   "cell_type": "code",
   "execution_count": 106,
   "id": "latter-barrel",
   "metadata": {},
   "outputs": [],
   "source": [
    "# Make language mapping like English: [[0, 1, 1, ...], [1, 1, 0, ...], ...]\n",
    "res = engine.execute(f\"\"\"\n",
    "               SELECT ISO6393, {\", \".join(cols)}\n",
    "               FROM phoible\n",
    "               \"\"\"\n",
    "              ).fetchall()\n",
    "\n",
    "# res = [[i[0].split(\",\")[0], list(i[0].split(\",\")[1])]for i in list(res)]\n",
    "\n",
    "vector_mapping = {}\n",
    "for i in res:\n",
    "    lang = i[0]\n",
    "    features = i[1:]\n",
    "    if lang not in vector_mapping:\n",
    "        vector_mapping[lang] = [features]\n",
    "    else:\n",
    "        vector_mapping[lang].append(features)"
   ]
  },
  {
   "cell_type": "code",
   "execution_count": 108,
   "id": "settled-cathedral",
   "metadata": {},
   "outputs": [
    {
     "name": "stdout",
     "output_type": "stream",
     "text": [
      "('0', '-', '-', '-', '-', '+', '-', '-', '-', '-', '-', '-', '-', '-', '+', '-', '-', '-', '0', '0', '0', '-', '0', '0', '0', '0', '0', '0', '0', '+', '-', '-', '-', '-', '-', '-', '-')\n",
      "('0', '-', '-', '-', '-', '+', '-', '-', '-', '-', '-', '-', '-', '-', '-', '0', '0', '+', '+', '-', '-', '-', '0', '0', '0', '0', '0', '0', '0', '+', '-', '-', '-', '-', '-', '-', '-')\n",
      "('0', '-', '-', '-', '-', '+', '-', '-', '+', '-', '-', '-', '-', '-', '-', '0', '0', '+', '-', '+', '+', '-', '0', '0', '0', '0', '0', '0', '0', '+', '-', '-', '-', '-', '-', '-', '-')\n"
     ]
    }
   ],
   "source": [
    "for i in range(3):\n",
    "    print(vector_mapping[\"eng\"][i])"
   ]
  },
  {
   "cell_type": "code",
   "execution_count": 110,
   "id": "sensitive-comparative",
   "metadata": {},
   "outputs": [
    {
     "name": "stdout",
     "output_type": "stream",
     "text": [
      "The vector distance for English and German is 0.015\n"
     ]
    }
   ],
   "source": [
    "# Define the vector space similarity between two languages\n",
    "def vector_similarity(a, b):\n",
    "    \"\"\"\n",
    "    Calculate the jaccard distance between all of a's vectors and all of b's vectors\n",
    "    The overall vector space similarity is simply the average distance.\n",
    "    This works fine where the phoneme inventories are different sizes\n",
    "    \"\"\"\n",
    "    simple_distances = []\n",
    "    \n",
    "    # For each vector in a, find the closest vector in b and append it to simple_distances\n",
    "    for vec_a in a:\n",
    "        closest = 1\n",
    "        for vec_b in b:\n",
    "            distance = simple_matching_coef(vec_a, vec_b)\n",
    "            if distance < closest:\n",
    "                closest = distance\n",
    "        simple_distances.append(closest)\n",
    "    \n",
    "    # For each vector in b, find the closest vector in a and append it to simple_distances\n",
    "    for vec_b in b:\n",
    "        closest = 1\n",
    "        for vec_a in a:\n",
    "            distance = simple_matching_coef(vec_a, vec_b)\n",
    "            if distance < closest:\n",
    "                closest = distance\n",
    "        simple_distances.append(closest)\n",
    "    \n",
    "    # Return the average distance\n",
    "    return sum(simple_distances) / len(simple_distances)\n",
    "\n",
    "\n",
    "# Calculate distances between some languages\n",
    "vec_similarity_d_eng_germ = vector_similarity(vector_mapping[\"eng\"], vector_mapping[\"deu\"])\n",
    "\n",
    "print(f\"The vector distance for English and German is {vec_similarity_d_eng_germ:.3f}\")\n"
   ]
  },
  {
   "cell_type": "code",
   "execution_count": 111,
   "id": "mighty-tenant",
   "metadata": {},
   "outputs": [],
   "source": [
    "# Now let's find the matching distance between English and every other language.\n",
    "# Be patient, this might take a minute!\n",
    "# vec_distance_to_eng = [(vector_similarity(vector_mapping[\"eng\"], vector_mapping[lang]), lang) for lang in vector_mapping]"
   ]
  },
  {
   "cell_type": "code",
   "execution_count": 44,
   "id": "fundamental-persian",
   "metadata": {},
   "outputs": [
    {
     "name": "stdout",
     "output_type": "stream",
     "text": [
      "The 50 languages with the smallest vector distance from English:\n"
     ]
    },
    {
     "data": {
      "text/plain": [
       "[(0.011452130096197886, 'English (British)'),\n",
       " (0.013098988559111253, 'English'),\n",
       " (0.017258222077499174, 'English (Australian)'),\n",
       " (0.020813917365641484, 'Welsh'),\n",
       " (0.02154857560262964, 'Belizean Creole'),\n",
       " (0.021692745376955886, 'Scots'),\n",
       " (0.02207841644461361, 'Daza'),\n",
       " (0.02214714714714713, 'Jamaican Creole'),\n",
       " (0.02275059869996578, 'German'),\n",
       " (0.023112767940354138, 'Assamese'),\n",
       " (0.023341523341523326, 'kwangari'),\n",
       " (0.023717595146166563, 'Persian'),\n",
       " (0.023739956172388586, 'Teda'),\n",
       " (0.023868023868023853, 'BASHKIR'),\n",
       " (0.023938223938223924, 'Rumanian'),\n",
       " (0.0239817282070803, 'Karipuna Creole'),\n",
       " (0.023986486486486467, 'Michif'),\n",
       " (0.02408348943002407, 'Indonesian'),\n",
       " (0.024255024255024238, 'Tagalog'),\n",
       " (0.024285154719937307, 'KERA'),\n",
       " (0.024324324324324312, 'Berom'),\n",
       " (0.024601524601524576, 'Ishkashimi'),\n",
       " (0.02483564645726806, 'Wymysorys'),\n",
       " (0.024974341430037614, 'Cebuano'),\n",
       " (0.025068546807677217, 'FUR'),\n",
       " (0.025294525294525284, 'Hill Jarawa'),\n",
       " (0.025437201907790127, 'Hanga'),\n",
       " (0.025460242851547174, 'Mauritian Creole'),\n",
       " (0.025566106647187715, 'AMO'),\n",
       " (0.025579150579150563, 'Swahili'),\n",
       " (0.02560455192034138, 'Antiguan Creole'),\n",
       " (0.025719267654751504, 'IVATAN'),\n",
       " (0.02574002574002573, 'English (New Zealand)'),\n",
       " (0.025885039969546997, 'Lunda'),\n",
       " (0.025974025974025955, 'KOHUMONO'),\n",
       " (0.026013513513513498, 'GERMAN'),\n",
       " (0.026220250100847095, 'diriku'),\n",
       " (0.026243634939287094, 'Standard Malay'),\n",
       " (0.026497085320614705, 'Javanese'),\n",
       " (0.02661122661122659, 'San Miguel Chimalapa Zoque'),\n",
       " (0.026617526617526595, 'Toba-Batak'),\n",
       " (0.026623638563937048, 'TEKE'),\n",
       " (0.02662363856393706, 'CAYAPA'),\n",
       " (0.02662957074721779, 'mbukushu'),\n",
       " (0.026646364674533667, 'LUO'),\n",
       " (0.02667140825035559, 'Taba'),\n",
       " (0.026712759270898796, 'Kabiyɛ'),\n",
       " (0.026783540297053786, 'Slovene'),\n",
       " (0.027027027027027004, 'Faroese'),\n",
       " (0.027027027027027008, 'Chumburung')]"
      ]
     },
     "execution_count": 44,
     "metadata": {},
     "output_type": "execute_result"
    }
   ],
   "source": [
    "print(\"The 50 languages with the smallest vector distance from English:\")\n",
    "sorted(vec_distance_to_eng, key=lambda x: x[0])[2:52]"
   ]
  },
  {
   "cell_type": "code",
   "execution_count": 115,
   "id": "celtic-tobago",
   "metadata": {},
   "outputs": [],
   "source": [
    "import itertools\n",
    "\n",
    "#missing \"fas\" farsi. Instead use pes\n",
    "lang_list=[\"cat\",\"cym\",\"deu\",\"eng\",\"pes\",\"fra\",\"ita\",\"kab\",\"kin\"]\n",
    "\n",
    "all_combinations = list(itertools.combinations(lang_list, 2))\n",
    "vec_distances = [((a,b),vector_similarity(vector_mapping[a], vector_mapping[b])) for a,b in all_combinations]"
   ]
  },
  {
   "cell_type": "code",
   "execution_count": 116,
   "id": "sufficient-toddler",
   "metadata": {},
   "outputs": [
    {
     "data": {
      "text/plain": [
       "[(('cat', 'cym'), 0.02999858497240698),\n",
       " (('cat', 'deu'), 0.030416555169030385),\n",
       " (('cat', 'eng'), 0.02697434276381642),\n",
       " (('cat', 'pes'), 0.026095060577819223),\n",
       " (('cat', 'fra'), 0.019478098788443636),\n",
       " (('cat', 'ita'), 0.012969012969012962),\n",
       " (('cat', 'kab'), 0.04483674425870962),\n",
       " (('cat', 'kin'), 0.022240990990990996),\n",
       " (('cym', 'deu'), 0.018581081081081075),\n",
       " (('cym', 'eng'), 0.016099831889305596),\n",
       " (('cym', 'pes'), 0.022142624552263106),\n",
       " (('cym', 'fra'), 0.02910602910602912),\n",
       " (('cym', 'ita'), 0.03036744609778319),\n",
       " (('cym', 'kab'), 0.046084546084546076),\n",
       " (('cym', 'kin'), 0.029256060183895233),\n",
       " (('deu', 'eng'), 0.014584395716471205),\n",
       " (('deu', 'pes'), 0.020999416682869934),\n",
       " (('deu', 'fra'), 0.01857557883616517),\n",
       " (('deu', 'ita'), 0.030848089468779136),\n",
       " (('deu', 'kab'), 0.04338549075391183),\n",
       " (('deu', 'kin'), 0.024570024570024558),\n",
       " (('eng', 'pes'), 0.021821001329198026),\n",
       " (('eng', 'fra'), 0.022426682001150052),\n",
       " (('eng', 'ita'), 0.025351351351351317),\n",
       " (('eng', 'kab'), 0.047364864864864825),\n",
       " (('eng', 'kin'), 0.02631748693801199),\n",
       " (('pes', 'fra'), 0.021009688934217254),\n",
       " (('pes', 'ita'), 0.02909764603312991),\n",
       " (('pes', 'kab'), 0.03396639883126369),\n",
       " (('pes', 'kin'), 0.01990613367858877),\n",
       " (('fra', 'ita'), 0.02400234169187238),\n",
       " (('fra', 'kab'), 0.04840433653992979),\n",
       " (('fra', 'kin'), 0.023166023166023154),\n",
       " (('ita', 'kab'), 0.05118243243243242),\n",
       " (('ita', 'kin'), 0.03034878453872867),\n",
       " (('kab', 'kin'), 0.036606226479644184)]"
      ]
     },
     "execution_count": 116,
     "metadata": {},
     "output_type": "execute_result"
    }
   ],
   "source": [
    "vec_distances"
   ]
  },
  {
   "cell_type": "markdown",
   "id": "corporate-management",
   "metadata": {},
   "source": [
    "The results here look even better than simple Jaccard distance: the top languages are all English dialects or related languages, languages spoken in the British Isles (Wales), other Indo-European languages, or languages that have been strongly influenced by English (Maltese, Jamaican Creole, Belizean Creole), or the usual Niger-Congo and Austronesian languages. There are some outliers though, like _Tamasheq_, a Berber language spoken in Mali, but [its phonology](https://en.wikipedia.org/wiki/Tamasheq_language#Phonology) does look similar to English.\n",
    "\n",
    "In the next section, I'm going to be a little more specific in how I measure the success of this distance metric."
   ]
  },
  {
   "cell_type": "code",
   "execution_count": 45,
   "id": "honest-teaching",
   "metadata": {},
   "outputs": [
    {
     "name": "stdout",
     "output_type": "stream",
     "text": [
      "The 25 languages with the largest vector distance from English:\n"
     ]
    },
    {
     "data": {
      "text/plain": [
       "[(0.0918918918918919, 'cilungu'),\n",
       " (0.09195228748301366, 'Dan'),\n",
       " (0.09206081081081079, 'Mbembe'),\n",
       " (0.09222380275011849, 'Kom'),\n",
       " (0.09260423213911578, 'Nizaa'),\n",
       " (0.092726873214678, 'Xhosa'),\n",
       " (0.09334544628662274, 'Konkomba'),\n",
       " (0.09413908290312784, 'soninke (kaedi (MRT))'),\n",
       " (0.09420099711361841, 'Sandawe'),\n",
       " (0.0948544698544698, 'Gwandara (Nimbia)'),\n",
       " (0.09508599508599501, 'Ticuna'),\n",
       " (0.095223130106851, 'Attie'),\n",
       " (0.09672830725462297, 'Ngiti'),\n",
       " (0.09702009702009701, 'Sochiapan Chinantec'),\n",
       " (0.09856915739268676, 'Gwandara (Karshi)'),\n",
       " (0.09878844361602983, 'Gadsup'),\n",
       " (0.09962028143846319, 'Babungo'),\n",
       " (0.10135135135135136, 'NAMA'),\n",
       " (0.10196560196560189, 'Bafut'),\n",
       " (0.10435435435435429, '!XU'),\n",
       " (0.10937996820349756, 'Buli'),\n",
       " (0.11036036036036034, 'Nama'),\n",
       " (0.1112146629388008, 'Itunyoso Trique'),\n",
       " (0.12748597654258026, '!Xun'),\n",
       " (0.14270270270270255, '!Xóõ')]"
      ]
     },
     "execution_count": 45,
     "metadata": {},
     "output_type": "execute_result"
    }
   ],
   "source": [
    "print(\"The 25 languages with the largest vector distance from English:\")\n",
    "sorted(vec_distance_to_eng, key=lambda x: x[0])[-25:]"
   ]
  },
  {
   "cell_type": "markdown",
   "id": "moral-forty",
   "metadata": {},
   "source": [
    "We already know that !Xóõ is very different from English, but let's explore a couple of others:"
   ]
  },
  {
   "cell_type": "code",
   "execution_count": 46,
   "id": "minimal-gnome",
   "metadata": {},
   "outputs": [
    {
     "name": "stdout",
     "output_type": "stream",
     "text": [
      "These are all the phonemes that occur in Xhosa:\n",
      "['b̤', 'cʰ', 'cʼ', 'd̠̤ʒ̤', 'd̤', 'f', 'h', 'j', 'kxʰ', 'kxʼ', 'kǀ', 'kǀʰ', 'kǀʼ', 'kǁ', 'kǁʰ', 'kǃ', 'kǃʰ', 'kʰ', 'kʼ', 'l', 'm', 'mpfʼ', 'mpʼ', 'm̤', 'm̤b̤', 'm̤b̤v̤', 'n', 'ntlʼ', 'ntsʼ', 'ntʼ', 'n̠t̠ʃʼ', 'n̠̤d̠̤ʒ', 'n̤', 'n̤d̤', 'n̤d̤z̤', 'n̤d̤ɮ̤', 'pʰ', 'pʼ', 's', 'tsʰ', 'tsʼ', 'tʰ', 'tʼ', 't̠ʃʰ', 't̠ʃʼ', 'v̤', 'w', 'x', 'z̤', 'ŋ', 'ŋkʼ', 'ŋǀ', 'ŋǁ', 'ŋǁʼ', 'ŋǃ', 'ŋǃʼ', 'ŋ̤ǀ', 'ŋ̤ǁ', 'ŋ̤ǃ', 'ŋ̤ɡ̤', 'ɓ', 'ɟ̤', 'ɡ̤', 'ɡ̤ǀ', 'ɡ̤ǁ', 'ɡ̤ǃ', 'ɣ̤', 'ɦ̤', 'ɬ', 'ɮ̤', 'ɲ', 'ɲcʼ', 'ɲ̤', 'ɲ̤ɟ̤', 'ʃ', '˦', '˨', 'a', 'e', 'i', 'o', 'u', 'ɔ', 'ɛ']\n"
     ]
    }
   ],
   "source": [
    "print(\"These are all the phonemes that occur in Xhosa:\")\n",
    "print(simple_mapping[\"Xhosa\"])"
   ]
  },
  {
   "cell_type": "code",
   "execution_count": 47,
   "id": "formed-confidence",
   "metadata": {},
   "outputs": [
    {
     "name": "stdout",
     "output_type": "stream",
     "text": [
      "These are all the phonemes that occur in Nizaa:\n",
      "['b', 'd', 'dʷ', 'd̠ʒ', 'd̠ʒʷ', 'f', 'h', 'j', 'k', 'kp', 'kʷ', 'l', 'lʷ', 'm', 'mb', 'mʷ', 'n', 'nd', 'ndʷ', 'nz', 'nzʷ', 'nʷ', 'n̠d̠ʒ', 'n̠d̠ʒʷ', 'p', 's', 'sʷ', 't', 'tʷ', 't̠ʃ', 't̠ʃʷ', 'v', 'w', 'w̃', 'x', 'z', 'zʷ', 'ŋmɡb', 'ŋɡ', 'ŋɡʷ', 'ɓ', 'ɓʷ', 'ɗ', 'ɗʷ', 'ɡ', 'ɡb', 'ɡʷ', 'ɥ', 'ɰ̃', 'ɱv', 'ɲ', 'ɲʷ', 'ɾ', 'ɾʷ', 'ʃ', 'ʃʷ', 'ʔ', 'ʔʷ', '˦', '˦˧', '˦˨', '˧', '˧˨', '˨', '˨˦', '˨˦˧', '˨˧', 'a', 'aː', 'ãː', 'e', 'eː', 'iː', 'ĩː', 'o', 'oː', 'uː', 'ũː', 'ɔː', 'ɔ̃ː', 'ɛː', 'ɛ̃ː', 'ɤː', 'ɤ̃ː', 'ɪ', 'ɯː', 'ɯ̃ː', 'ʊ', 'ʌː', 'ʌ̃ː']\n"
     ]
    }
   ],
   "source": [
    "print(\"These are all the phonemes that occur in Nizaa:\")\n",
    "print(simple_mapping[\"Nizaa\"])"
   ]
  },
  {
   "cell_type": "markdown",
   "id": "weekly-alliance",
   "metadata": {},
   "source": [
    "## Evaluation\n",
    "\n",
    "One way to evaluate this custom distance metric is to simply look at the results: do they look sensible? A \"sensible\" result should have lots of languages in the same family as English: Indo-European. If a lot of the results are Indo-European, then the results are probably good. This seems to be the case. Rather than just counting things manually, let's quantify it.\n",
    "\n",
    "In this section I first join the phoible dataset with [glottolog](https://glottolog.org/). Glottolog contains meta-data about languages: where it's spoken, the countries it's spoken in, etc.\n",
    "\n",
    "If my algorithm's top-50 items contain 25 Indo-European languages, and 50% of the world's languages are members of this family, then the algorithm's results are probably random. If, however, the distribution of language families that are selected by my algorithm are significantly different from the distribution in WALS, that means that my algorithm is doing _something_.\n",
    "\n",
    "Here's how I evaluate the results:\n",
    "- If there are significantly __more__ Indo-European languages chosen than random, then my algorithm is _valid_ - it's returning sensible results.\n",
    "- If my algorithm returns _some other language family_ significantly more than chance, then this family _probably_ resembles English in its phonology.\n",
    "\n",
    "First I'll just show you the raw probabilities, then I'll use statistics to quantify things.\n",
    "\n",
    "__Note__: the choice of the top 50 languages is arbitrary. I could choose another number. Additionally, I could weight each item by distance, but this complicates some of the downstream calculations."
   ]
  },
  {
   "cell_type": "code",
   "execution_count": 48,
   "id": "outdoor-italy",
   "metadata": {},
   "outputs": [
    {
     "name": "stdout",
     "output_type": "stream",
     "text": [
      "  % Total    % Received % Xferd  Average Speed   Time    Time     Time  Current\n",
      "                                 Dload  Upload   Total   Spent    Left  Speed\n",
      "100 1547k  100 1547k    0     0  3765k      0 --:--:-- --:--:-- --:--:-- 3756k\n"
     ]
    }
   ],
   "source": [
    "! curl https://raw.githubusercontent.com/glottolog/glottolog-cldf/master/cldf/languages.csv > languages.csv"
   ]
  },
  {
   "cell_type": "code",
   "execution_count": 49,
   "id": "buried-moldova",
   "metadata": {},
   "outputs": [],
   "source": [
    "! mv languages.csv ../data"
   ]
  },
  {
   "cell_type": "code",
   "execution_count": 50,
   "id": "artificial-judgment",
   "metadata": {},
   "outputs": [],
   "source": [
    "lang_df = pd.read_csv(\"../data/languages.csv\")"
   ]
  },
  {
   "cell_type": "code",
   "execution_count": 51,
   "id": "auburn-convertible",
   "metadata": {},
   "outputs": [
    {
     "data": {
      "text/html": [
       "<div>\n",
       "<style scoped>\n",
       "    .dataframe tbody tr th:only-of-type {\n",
       "        vertical-align: middle;\n",
       "    }\n",
       "\n",
       "    .dataframe tbody tr th {\n",
       "        vertical-align: top;\n",
       "    }\n",
       "\n",
       "    .dataframe thead th {\n",
       "        text-align: right;\n",
       "    }\n",
       "</style>\n",
       "<table border=\"1\" class=\"dataframe\">\n",
       "  <thead>\n",
       "    <tr style=\"text-align: right;\">\n",
       "      <th></th>\n",
       "      <th>ID</th>\n",
       "      <th>Name</th>\n",
       "      <th>Macroarea</th>\n",
       "      <th>Latitude</th>\n",
       "      <th>Longitude</th>\n",
       "      <th>Glottocode</th>\n",
       "      <th>ISO639P3code</th>\n",
       "      <th>Countries</th>\n",
       "      <th>Family_ID</th>\n",
       "      <th>Language_ID</th>\n",
       "    </tr>\n",
       "  </thead>\n",
       "  <tbody>\n",
       "    <tr>\n",
       "      <th>0</th>\n",
       "      <td>kond1302</td>\n",
       "      <td>Konda-Yahadian</td>\n",
       "      <td>NaN</td>\n",
       "      <td>NaN</td>\n",
       "      <td>NaN</td>\n",
       "      <td>kond1302</td>\n",
       "      <td>NaN</td>\n",
       "      <td>NaN</td>\n",
       "      <td>NaN</td>\n",
       "      <td>NaN</td>\n",
       "    </tr>\n",
       "    <tr>\n",
       "      <th>1</th>\n",
       "      <td>cani1243</td>\n",
       "      <td>Canichana</td>\n",
       "      <td>South America</td>\n",
       "      <td>-14.3058</td>\n",
       "      <td>-64.944455</td>\n",
       "      <td>cani1243</td>\n",
       "      <td>caz</td>\n",
       "      <td>BO</td>\n",
       "      <td>NaN</td>\n",
       "      <td>NaN</td>\n",
       "    </tr>\n",
       "    <tr>\n",
       "      <th>2</th>\n",
       "      <td>mong1349</td>\n",
       "      <td>Mongolic-Khitan</td>\n",
       "      <td>NaN</td>\n",
       "      <td>NaN</td>\n",
       "      <td>NaN</td>\n",
       "      <td>mong1349</td>\n",
       "      <td>NaN</td>\n",
       "      <td>NaN</td>\n",
       "      <td>NaN</td>\n",
       "      <td>NaN</td>\n",
       "    </tr>\n",
       "    <tr>\n",
       "      <th>3</th>\n",
       "      <td>cadd1255</td>\n",
       "      <td>Caddoan</td>\n",
       "      <td>NaN</td>\n",
       "      <td>NaN</td>\n",
       "      <td>NaN</td>\n",
       "      <td>cadd1255</td>\n",
       "      <td>NaN</td>\n",
       "      <td>NaN</td>\n",
       "      <td>NaN</td>\n",
       "      <td>NaN</td>\n",
       "    </tr>\n",
       "    <tr>\n",
       "      <th>4</th>\n",
       "      <td>yuki1242</td>\n",
       "      <td>Yuki-Wappo</td>\n",
       "      <td>NaN</td>\n",
       "      <td>NaN</td>\n",
       "      <td>NaN</td>\n",
       "      <td>yuki1242</td>\n",
       "      <td>NaN</td>\n",
       "      <td>NaN</td>\n",
       "      <td>NaN</td>\n",
       "      <td>NaN</td>\n",
       "    </tr>\n",
       "  </tbody>\n",
       "</table>\n",
       "</div>"
      ],
      "text/plain": [
       "         ID             Name      Macroarea  Latitude  Longitude Glottocode  \\\n",
       "0  kond1302   Konda-Yahadian            NaN       NaN        NaN   kond1302   \n",
       "1  cani1243        Canichana  South America  -14.3058 -64.944455   cani1243   \n",
       "2  mong1349  Mongolic-Khitan            NaN       NaN        NaN   mong1349   \n",
       "3  cadd1255          Caddoan            NaN       NaN        NaN   cadd1255   \n",
       "4  yuki1242       Yuki-Wappo            NaN       NaN        NaN   yuki1242   \n",
       "\n",
       "  ISO639P3code Countries Family_ID Language_ID  \n",
       "0          NaN       NaN       NaN         NaN  \n",
       "1          caz        BO       NaN         NaN  \n",
       "2          NaN       NaN       NaN         NaN  \n",
       "3          NaN       NaN       NaN         NaN  \n",
       "4          NaN       NaN       NaN         NaN  "
      ]
     },
     "execution_count": 51,
     "metadata": {},
     "output_type": "execute_result"
    }
   ],
   "source": [
    "lang_df.head()"
   ]
  },
  {
   "cell_type": "code",
   "execution_count": 52,
   "id": "basic-automation",
   "metadata": {},
   "outputs": [
    {
     "name": "stdout",
     "output_type": "stream",
     "text": [
      "Here are some examples of Indo-European languages:\n"
     ]
    },
    {
     "data": {
      "text/plain": [
       "[('GREEK', 'indo1319'),\n",
       " ('Greek', 'indo1319'),\n",
       " ('Modern Greek', 'indo1319'),\n",
       " ('Italian', 'indo1319'),\n",
       " ('Aragonese', 'indo1319'),\n",
       " ('Ligurian', 'indo1319'),\n",
       " ('Friulian', 'indo1319'),\n",
       " ('Vallader Romansh', 'indo1319'),\n",
       " ('Reunionnais', 'indo1319'),\n",
       " ('Mauritian Creole', 'indo1319')]"
      ]
     },
     "execution_count": 52,
     "metadata": {},
     "output_type": "execute_result"
    }
   ],
   "source": [
    "# Join phoible to glottolog to see which languages are part of the Indo-European family\n",
    "engine = create_engine('sqlite://', echo=False)\n",
    "lang_df.to_sql('glottolog', con=engine)\n",
    "df.to_sql('phoible', con=engine)\n",
    "\n",
    "res = engine.execute(\"\"\"\n",
    "               SELECT DISTINCT(phoible.LanguageName), glottolog.Family_ID FROM glottolog\n",
    "               JOIN phoible\n",
    "               ON phoible.Glottocode = glottolog.Glottocode\n",
    "               WHERE Family_ID LIKE '%indo%'\n",
    "               \"\"\"\n",
    "              ).fetchall()\n",
    "\n",
    "print(\"Here are some examples of Indo-European languages:\")\n",
    "res[:10]"
   ]
  },
  {
   "cell_type": "code",
   "execution_count": 53,
   "id": "prepared-worth",
   "metadata": {},
   "outputs": [],
   "source": [
    "# Get the names of the languages\n",
    "top_50_lang_names = [name for _, name in sorted(vec_distance_to_eng, key=lambda x: x[0])[2:52]]"
   ]
  },
  {
   "cell_type": "code",
   "execution_count": 54,
   "id": "amino-sequence",
   "metadata": {},
   "outputs": [],
   "source": [
    "# Add `phoible` and `glottolog` tables so that they can be joined.\n",
    "engine = create_engine('sqlite://', echo=False)\n",
    "lang_df.to_sql('glottolog', con=engine)\n",
    "df.to_sql('phoible', con=engine)\n",
    "\n",
    "# Add a new column `family` to analyze family distributions.\n",
    "res = engine.execute(f\"\"\"\n",
    "               SELECT DISTINCT(phoible.LanguageName), glottolog.Family_ID\n",
    "               FROM glottolog\n",
    "               JOIN phoible\n",
    "               ON phoible.Glottocode = glottolog.Glottocode\n",
    "               \"\"\"\n",
    "              ).fetchall()\n",
    "\n",
    "# Get all the languages in the database along with their language family.\n",
    "total_langs_in_database = res\n",
    "\n",
    "\n",
    "res = engine.execute(f\"\"\"\n",
    "               SELECT DISTINCT(phoible.LanguageName), glottolog.Family_ID FROM glottolog\n",
    "               JOIN phoible\n",
    "               ON phoible.Glottocode = glottolog.Glottocode\n",
    "               AND phoible.LanguageName IN ('{\"','\".join(top_50_lang_names)}')\n",
    "               \"\"\"\n",
    "              ).fetchall()\n",
    "\n",
    "# Get the top-50 languages along with their language family\n",
    "top_50_langs = res"
   ]
  },
  {
   "cell_type": "markdown",
   "id": "humanitarian-marks",
   "metadata": {},
   "source": [
    "Let's look at the families of the top-50 languages and see if anything pops out. At first glance, it seems like there are more Austronesian languages (`aust1307`) than might occur by chance, so we'll investigate that! Niger-Congo (`atla1278`) looks promising too:"
   ]
  },
  {
   "cell_type": "code",
   "execution_count": 55,
   "id": "sticky-strike",
   "metadata": {},
   "outputs": [
    {
     "data": {
      "text/plain": [
       "[('KERA', 'afro1255'),\n",
       " ('Michif', 'algi1248'),\n",
       " ('Swahili', 'atla1278'),\n",
       " ('AMO', 'atla1278'),\n",
       " ('KOHUMONO', 'atla1278'),\n",
       " ('TEKE', 'atla1278'),\n",
       " ('Berom', 'atla1278'),\n",
       " ('Chumburung', 'atla1278'),\n",
       " ('Hanga', 'atla1278'),\n",
       " ('Kabiyɛ', 'atla1278'),\n",
       " ('Hill Jarawa', 'atla1278'),\n",
       " ('Lunda', 'atla1278'),\n",
       " ('mbukushu', 'atla1278'),\n",
       " ('diriku', 'atla1278'),\n",
       " ('kwangari', 'atla1278'),\n",
       " ('Javanese', 'aust1307'),\n",
       " ('Tagalog', 'aust1307'),\n",
       " ('IVATAN', 'aust1307'),\n",
       " ('Toba-Batak', 'aust1307'),\n",
       " ('Indonesian', 'aust1307'),\n",
       " ('Taba', 'aust1307'),\n",
       " ('Cebuano', 'aust1307'),\n",
       " ('Standard Malay', 'aust1307'),\n",
       " ('CAYAPA', 'barb1265'),\n",
       " ('FUR', 'fura1235'),\n",
       " ('San Miguel Chimalapa Zoque', 'mixe1284'),\n",
       " ('LUO', 'nilo1247'),\n",
       " ('Daza', 'saha1256'),\n",
       " ('Teda', 'saha1256'),\n",
       " ('BASHKIR', 'turk1311')]"
      ]
     },
     "execution_count": 55,
     "metadata": {},
     "output_type": "execute_result"
    }
   ],
   "source": [
    "top_50_non_indo = sorted([i for i in top_50_langs if i[1] != 'indo1319'], key=lambda x: x[1])\n",
    "top_50_non_indo"
   ]
  },
  {
   "cell_type": "code",
   "execution_count": 56,
   "id": "beneficial-prescription",
   "metadata": {},
   "outputs": [],
   "source": [
    "# Calculate the fractions of Indo-European, Austronesian, and Niger-Congo languages in the entire database\n",
    "cnt_langs_in_database = len(total_langs_in_database)\n",
    "indo_langs_in_database = [1 if i[1]  == 'indo1319' else 0 for i in total_langs_in_database]\n",
    "austro_langs_in_database = [1 if i[1]  == 'aust1307' else 0 for i in total_langs_in_database]\n",
    "niger_langs_in_database = [1 if i[1]  == 'atla1278' else 0 for i in total_langs_in_database]"
   ]
  },
  {
   "cell_type": "code",
   "execution_count": 57,
   "id": "attached-decade",
   "metadata": {},
   "outputs": [],
   "source": [
    "# Calculate the fractions of Indo-European, Austronesian, and Niger-Congo languages in the top-50\n",
    "cnt_langs_in_sample = len(top_50_langs)\n",
    "indo_langs_in_sample = [1 if i[1]  == 'indo1319' else 0 for i in top_50_langs]\n",
    "niger_langs_in_sample = [1 if i[1]  == 'atla1278' else 0 for i in top_50_langs]\n",
    "austro_langs_in_sample = [1 if i[1]  == 'aust1307' else 0 for i in top_50_langs]"
   ]
  },
  {
   "cell_type": "code",
   "execution_count": 58,
   "id": "naval-comedy",
   "metadata": {},
   "outputs": [
    {
     "name": "stdout",
     "output_type": "stream",
     "text": [
      "The fraction of Indo-European languages in the database is 7%\n",
      "The fraction of Austronesian languages in the database is 5%\n",
      "The fraction of Niger-Congo languages in the database is 18%\n"
     ]
    }
   ],
   "source": [
    "print(f\"The fraction of Indo-European languages in the database is {sum(indo_langs_in_database)/cnt_langs_in_database*100:.0f}%\")\n",
    "print(f\"The fraction of Austronesian languages in the database is {sum(austro_langs_in_database)/cnt_langs_in_database*100:.0f}%\")\n",
    "print(f\"The fraction of Niger-Congo languages in the database is {sum(niger_langs_in_database)/cnt_langs_in_database*100:.0f}%\")"
   ]
  },
  {
   "cell_type": "code",
   "execution_count": 59,
   "id": "ideal-flashing",
   "metadata": {},
   "outputs": [
    {
     "name": "stdout",
     "output_type": "stream",
     "text": [
      "The fraction of Indo-European languages in the top-50 is: 40%\n",
      "The fraction of Austronesian languages in the top-50 is: 16%\n",
      "The fraction of Niger-Congo languages in the top-50 is: 26%\n"
     ]
    }
   ],
   "source": [
    "print(f\"The fraction of Indo-European languages in the top-50 is: {sum(indo_langs_in_sample)/cnt_langs_in_sample*100:.0f}%\")\n",
    "print(f\"The fraction of Austronesian languages in the top-50 is: {sum(austro_langs_in_sample)/cnt_langs_in_sample*100:.0f}%\")\n",
    "print(f\"The fraction of Niger-Congo languages in the top-50 is: {sum(niger_langs_in_sample)/cnt_langs_in_sample*100:.0f}%\")"
   ]
  },
  {
   "cell_type": "markdown",
   "id": "proper-facility",
   "metadata": {},
   "source": [
    "If we just eyeball the numbers, we can tell that the algorithm is valid: only __7%__ of the world's languages are Indo-European, but __40%__ of the languages in the top 50 were Indo-European.\n",
    "\n",
    "Additionally, __5%__ of the world's languages are Austronesian, but __16%__ of the languages in the sample are.\n",
    "\n",
    "It also looks like Niger-Congo languages might be more similar: only __18%__ of the world's languages are Niger-Congo, but __26%__ of the top-50 are from this family. However, these numbers are pretty close - let's do some math to explicitly determine how likely these results would have occured by chance. If these results are unlikely to have occured by chance, then they're valid!"
   ]
  },
  {
   "cell_type": "code",
   "execution_count": 60,
   "id": "southern-graph",
   "metadata": {},
   "outputs": [
    {
     "name": "stdout",
     "output_type": "stream",
     "text": [
      "The probability that the difference between the two means would have occured by chance is 1.4647640644606805e-18\n"
     ]
    }
   ],
   "source": [
    "# Independent-samples t-test for Indo-European languages\n",
    "from scipy import stats\n",
    "\n",
    "t_test_indo = stats.ttest_ind(indo_langs_in_database, indo_langs_in_sample)\n",
    "\n",
    "print(f\"The probability that the difference between the two means would have occured by chance is {t_test_indo.pvalue}\")"
   ]
  },
  {
   "cell_type": "markdown",
   "id": "juvenile-mystery",
   "metadata": {},
   "source": [
    "This means that it's _very very_ unlikely we would have gotten these results by chance. The algorithm is having _an effect_ - Indo-European langugages are being selected at a much higher rate than chance."
   ]
  },
  {
   "cell_type": "code",
   "execution_count": 61,
   "id": "sacred-speech",
   "metadata": {},
   "outputs": [
    {
     "name": "stdout",
     "output_type": "stream",
     "text": [
      "The probability that the difference between the two means would have occured by chance is 0.00033112080890767404\n"
     ]
    }
   ],
   "source": [
    "# Independent-samples t-test for Austronesian languages\n",
    "from scipy import stats\n",
    "\n",
    "t_test_austro = stats.ttest_ind(austro_langs_in_database, austro_langs_in_sample)\n",
    "\n",
    "print(f\"The probability that the difference between the two means would have occured by chance is {t_test_austro.pvalue}\")"
   ]
  },
  {
   "cell_type": "markdown",
   "id": "swiss-centre",
   "metadata": {},
   "source": [
    "It's also very unlikely that so many Austronesian languages would have been selected by chance. This suggests that this family _actually does_ sound more like English than languages from other families. This result is interesting, because Austronesian languages originated on the opposite side of the world from the British Isles and have no genetic relationship to English.\n",
    "\n",
    "Let's see what happens when we look at the Niger-Congo languages:"
   ]
  },
  {
   "cell_type": "code",
   "execution_count": 62,
   "id": "impressive-primary",
   "metadata": {},
   "outputs": [
    {
     "name": "stdout",
     "output_type": "stream",
     "text": [
      "The probability that the difference between the two means would have occured by chance is 0.1327864017851778\n"
     ]
    }
   ],
   "source": [
    "# Independent-samples t-test for Niger-Congo languages\n",
    "from scipy import stats\n",
    "\n",
    "t_test_niger = stats.ttest_ind(niger_langs_in_database, niger_langs_in_sample)\n",
    "\n",
    "print(f\"The probability that the difference between the two means would have occured by chance is {t_test_niger.pvalue}\")"
   ]
  },
  {
   "cell_type": "markdown",
   "id": "integral-injection",
   "metadata": {},
   "source": [
    "The results for Niger-Congo languages are _marginally significant_ - there's a 13% chance that if we'd randomly sampled languages we'd get such an extreme number of Niger-Congo languages in the top-50. In the fields of psychology and linguistics, a p-value of anything greater than _0.05_ wouldn't be considered acceptable; however, the result still hints at _something_ and warrants further explotation, which I'll do more of in the next section.\n",
    "\n",
    "But maybe there's some other kind of language that's dispropotionately selected by the algorithm? I could add together language families to see if Sub-Saharan African languages are more likely. However, looking for connections this fine-grained can introduce bias - I don't want to _discover_ connections that don't exist.\n",
    "\n",
    "Instead, in the next section I'll dig deeper into the non-Indo-European languages that were selected by the algorithm to see if the results make sense or any patterns emerge."
   ]
  },
  {
   "cell_type": "markdown",
   "id": "reduced-distributor",
   "metadata": {},
   "source": [
    "### Footnote\n",
    "\n",
    "There's another completely valid way to measure similarity: a model-based approach.\n",
    "\n",
    "I could label each language as Indo-European vs non-Indo-European and then train a classifier on phoneme data. If the classifier has a reasonable $F_1$ score, it means that it's working. Then I could study the model's false-positives - the languages that were labeled as Indo-European that weren't. If I use a model like logistic regression, I will get category information as well as probabilities: languages with a higher probability of being Indo-European are \"closer\" to this category.\n",
    "\n",
    "However, the problem with this approach is that I have to train off a category of languages, not a single one: I'd have no way of specifically measuring the difference between all the languages and English. Instead, I'd be measuring the distance between _Indo-European languages_ and everything else.\n",
    "\n",
    "Additionally, other classification tasks could be performed in order to ascertain the importance of various phonetic features. For instance, in a logistic regression model, the __pharyngeal__ feature might be important in determining whether a language belongs to the Afro-Asiatic family. These weights could then be applied to the feautures when doing similarity measurements."
   ]
  },
  {
   "cell_type": "markdown",
   "id": "connected-classic",
   "metadata": {},
   "source": [
    "## Conclusion\n",
    "\n",
    "Let's look again at some of the non-Indo-European languages that made it into the top-50, sorted by their language family:"
   ]
  },
  {
   "cell_type": "code",
   "execution_count": 63,
   "id": "efficient-shoulder",
   "metadata": {},
   "outputs": [
    {
     "name": "stdout",
     "output_type": "stream",
     "text": [
      "There are 30 non-Indo-European languages in the top-50:\n"
     ]
    },
    {
     "data": {
      "text/plain": [
       "[('KERA', 'afro1255'),\n",
       " ('Michif', 'algi1248'),\n",
       " ('Swahili', 'atla1278'),\n",
       " ('AMO', 'atla1278'),\n",
       " ('KOHUMONO', 'atla1278'),\n",
       " ('TEKE', 'atla1278'),\n",
       " ('Berom', 'atla1278'),\n",
       " ('Chumburung', 'atla1278'),\n",
       " ('Hanga', 'atla1278'),\n",
       " ('Kabiyɛ', 'atla1278'),\n",
       " ('Hill Jarawa', 'atla1278'),\n",
       " ('Lunda', 'atla1278'),\n",
       " ('mbukushu', 'atla1278'),\n",
       " ('diriku', 'atla1278'),\n",
       " ('kwangari', 'atla1278'),\n",
       " ('Javanese', 'aust1307'),\n",
       " ('Tagalog', 'aust1307'),\n",
       " ('IVATAN', 'aust1307'),\n",
       " ('Toba-Batak', 'aust1307'),\n",
       " ('Indonesian', 'aust1307'),\n",
       " ('Taba', 'aust1307'),\n",
       " ('Cebuano', 'aust1307'),\n",
       " ('Standard Malay', 'aust1307'),\n",
       " ('CAYAPA', 'barb1265'),\n",
       " ('FUR', 'fura1235'),\n",
       " ('San Miguel Chimalapa Zoque', 'mixe1284'),\n",
       " ('LUO', 'nilo1247'),\n",
       " ('Daza', 'saha1256'),\n",
       " ('Teda', 'saha1256'),\n",
       " ('BASHKIR', 'turk1311')]"
      ]
     },
     "execution_count": 63,
     "metadata": {},
     "output_type": "execute_result"
    }
   ],
   "source": [
    "print(f\"There are {len(top_50_non_indo)} non-Indo-European languages in the top-50:\")\n",
    "top_50_non_indo"
   ]
  },
  {
   "cell_type": "code",
   "execution_count": 64,
   "id": "guided-genealogy",
   "metadata": {},
   "outputs": [
    {
     "name": "stdout",
     "output_type": "stream",
     "text": [
      "There are 8 Austronesian languages in the top 50\n"
     ]
    }
   ],
   "source": [
    "num_austronesian = len([i for i in top_50_non_indo if i[1] == 'aust1307'])\n",
    "\n",
    "print(f\"There are {num_austronesian} Austronesian languages in the top 50\")"
   ]
  },
  {
   "cell_type": "code",
   "execution_count": 65,
   "id": "floating-brook",
   "metadata": {},
   "outputs": [
    {
     "name": "stdout",
     "output_type": "stream",
     "text": [
      "There are 13 Niger-Congo languages in the top 50\n"
     ]
    }
   ],
   "source": [
    "num_niger_congo = len([i for i in top_50_non_indo if i[1] == 'atla1278'])\n",
    "\n",
    "print(f\"There are {num_niger_congo} Niger-Congo languages in the top 50\")"
   ]
  },
  {
   "cell_type": "code",
   "execution_count": 66,
   "id": "instrumental-lingerie",
   "metadata": {},
   "outputs": [
    {
     "name": "stdout",
     "output_type": "stream",
     "text": [
      "There are 18 African languages in the top 50\n"
     ]
    }
   ],
   "source": [
    "num_african = len([i for i in top_50_non_indo if i[1] in ['afro1255', 'atla1278', 'fura1235', 'nilo1247', 'saha1256']])\n",
    "\n",
    "print(f\"There are {num_african} African languages in the top 50\")"
   ]
  },
  {
   "cell_type": "markdown",
   "id": "painted-stomach",
   "metadata": {},
   "source": [
    "Of the 30 non-Indo-European languages, __18__ are spoken in Sub-Saharan Africa: there are 8 Niger-Congo languages. One confounding factor when we consider Sub-Saharan African languages is the presence of tones. Tone is applied to every phoneme segment and makes syllables sound distinct. However, tone is not recorded on a phoneme level. Consider the Chinese word /ma˥/ - this word has a high tone (__˥__), and makes it distinct from the word /ma˩/ (low tone). Tone is not recorded in any database as being a distinctive aspect of a vowel - even though it __is__. In other words, tonal languages have a unique phoneme feature that's being overlooked. This means that Niger-Congo languages probably sound more distinct than the algorithm is suggesting. So instead, let's hone in on the Austronesian languages that were selected by the algorithm:"
   ]
  },
  {
   "cell_type": "code",
   "execution_count": 67,
   "id": "brown-primary",
   "metadata": {},
   "outputs": [
    {
     "name": "stdout",
     "output_type": "stream",
     "text": [
      "These are the Austronesian languages in the top-50:\n"
     ]
    },
    {
     "data": {
      "text/plain": [
       "[('Javanese', 'aust1307'),\n",
       " ('Tagalog', 'aust1307'),\n",
       " ('IVATAN', 'aust1307'),\n",
       " ('Toba-Batak', 'aust1307'),\n",
       " ('Indonesian', 'aust1307'),\n",
       " ('Taba', 'aust1307'),\n",
       " ('Cebuano', 'aust1307'),\n",
       " ('Standard Malay', 'aust1307')]"
      ]
     },
     "execution_count": 67,
     "metadata": {},
     "output_type": "execute_result"
    }
   ],
   "source": [
    "print(\"These are the Austronesian languages in the top-50:\")\n",
    "[i for i in top_50_non_indo if i[1] == 'aust1307']"
   ]
  },
  {
   "cell_type": "markdown",
   "id": "dutch-aurora",
   "metadata": {},
   "source": [
    "The Austronesian languages __Tagalog__, __Ivatan__, __Taba__, __Indonesian__, and __Malay__ have a simple phonological inventory: their consonants are a subset of English (except for the palatal nasal /ɲ/ in Indonesian). Their vowels are also a subset of English, except for Tagalog which has a mid-back rounded vowel that English lacks: /o̞/.\n",
    "\n",
    "__Toba-Batak__ resembles the rest of the languages in this family except that is possesses the palatals /d͡ʑ/ and /t͡ɕ/.\n",
    "\n",
    "__Cebuano's__ consonants are often dentalized, making it slightly different from its relatives on this list.\n",
    "\n",
    "In __Javanese__ there are breathy-voiced consonants like /ɖ̥/ and dentalized stops like /t̪/.\n",
    "\n",
    "All of these languages are non-tonal like English. However, unlike English, the sound /ŋ/ can occur in the beginnings of syllables as well as at the end: English is weird in that it bans /ŋ/ from starting out a syllable."
   ]
  },
  {
   "cell_type": "markdown",
   "id": "devoted-virginia",
   "metadata": {},
   "source": [
    "I think it's fair to conclude that Austronesian languages are _weirdly similar_ to English in their phonology. Despite being on opposite sides of the planet, these languages contain sounds that every English-speaker is familiar with. Learning Tagalog, Malay, or Cebuano shouldn't present many problems for English speakers when it comes to pronunciation.\n",
    "\n",
    "However, it's worth keeping in mind that all the distance metrics I explored are, by definition, symmetrical: the distance from point A to point B is always the same as the distance from B to A. However, the \"learning difficulty\" of a language's speech sounds is definitely __not__ symmetrical: all the Austronesian languages I explored have phoneme inventories that are subsets of English: that means it should be easier for an English-speaker to pronounce Tagalog words than for a Tagalog-speaker to pronounce English words."
   ]
  }
 ],
 "metadata": {
  "kernelspec": {
   "display_name": "Python 3",
   "language": "python",
   "name": "python3"
  },
  "language_info": {
   "codemirror_mode": {
    "name": "ipython",
    "version": 3
   },
   "file_extension": ".py",
   "mimetype": "text/x-python",
   "name": "python",
   "nbconvert_exporter": "python",
   "pygments_lexer": "ipython3",
   "version": "3.7.9"
  }
 },
 "nbformat": 4,
 "nbformat_minor": 5
}
