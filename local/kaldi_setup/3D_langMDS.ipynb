{
 "cells": [
  {
   "cell_type": "code",
   "execution_count": 77,
   "id": "b004869c",
   "metadata": {},
   "outputs": [],
   "source": [
    "from mpl_toolkits import mplot3d"
   ]
  },
  {
   "cell_type": "code",
   "execution_count": 78,
   "id": "2411f069",
   "metadata": {},
   "outputs": [],
   "source": [
    "#%matplotlib inline\n",
    "%matplotlib qt\n",
    "import numpy as np\n",
    "import matplotlib.pyplot as plt\n"
   ]
  },
  {
   "cell_type": "code",
   "execution_count": 79,
   "id": "75d1725f",
   "metadata": {},
   "outputs": [],
   "source": [
    "import kaldiio                                                                    \n",
    "import os, shutil                                                                 \n",
    "from sklearn.manifold import MDS                                                  \n",
    "from collections import defaultdict                                               \n",
    "import pandas as pd                                                               \n",
    "                       "
   ]
  },
  {
   "cell_type": "code",
   "execution_count": 108,
   "id": "31e0a54d",
   "metadata": {},
   "outputs": [],
   "source": [
    "feats_file=\"exp_lfe_highdim/ivectors/ivectors_2048_tr-train_all_ts-train_all/lang_ivectors.scp\"\n",
    "utt2lang_f=\"data/cv/train_all/lang2lang\""
   ]
  },
  {
   "cell_type": "code",
   "execution_count": 109,
   "id": "8bd909c3",
   "metadata": {},
   "outputs": [],
   "source": [
    "utt2lang={}                                                                   \n",
    "with open(utt2lang_f, 'r') as input_utt2lang:                              \n",
    "    for line in input_utt2lang:                                               \n",
    "        utt2lang[line.split(' ')[0]] = line.split(' ')[1].strip('\\n')  "
   ]
  },
  {
   "cell_type": "code",
   "execution_count": 110,
   "id": "6bdca0e1",
   "metadata": {},
   "outputs": [],
   "source": [
    "utt2data={}                                                                   \n",
    "with kaldiio.ReadHelper('scp:{}'.format(feats_file)) as reader:          \n",
    "    for key, value in reader:                                                 \n",
    "        utt2data[key] = value.astype(np.float64)                              \n",
    "utt_list = sorted(list(utt2lang.keys()))     "
   ]
  },
  {
   "cell_type": "code",
   "execution_count": 111,
   "id": "ca2a7d29",
   "metadata": {},
   "outputs": [],
   "source": [
    "data=[]                                                                       \n",
    "lang_data=[]                                                                  \n",
    "                                                               \n",
    "for k in utt_list:                                                            \n",
    "    data.append(utt2data[k])                                                  \n",
    "    lang_data.append(utt2lang[k])\n",
    "\n",
    "data = np.matrix(data)"
   ]
  },
  {
   "cell_type": "code",
   "execution_count": 112,
   "id": "32dd3f50",
   "metadata": {},
   "outputs": [],
   "source": [
    "data = np.matrix(data)\n",
    "lang_data=np.array(lang_data)"
   ]
  },
  {
   "cell_type": "markdown",
   "id": "9141a449",
   "metadata": {},
   "source": [
    "# 2D MDS and plot"
   ]
  },
  {
   "cell_type": "code",
   "execution_count": 113,
   "id": "8f89c0dc",
   "metadata": {},
   "outputs": [],
   "source": [
    "embedding = MDS(n_components=2, max_iter=1000, random_state=35)  #35                                              \n",
    "data_transformed = embedding.fit_transform(data)  \n",
    "df = pd.DataFrame(dict(x=data_transformed[:,0], y=data_transformed[:,1], \\\n",
    "label=lang_data))                                                                 \n",
    "groups = df.groupby('label') "
   ]
  },
  {
   "cell_type": "code",
   "execution_count": 122,
   "id": "c31d14a3",
   "metadata": {},
   "outputs": [
    {
     "data": {
      "text/plain": [
       "Text(0.5, 0.98, 'Language Centroïds projected using MDS')"
      ]
     },
     "execution_count": 122,
     "metadata": {},
     "output_type": "execute_result"
    }
   ],
   "source": [
    "fig, ax = plt.subplots()                                                      \n",
    "ax.margins(0.05) # Optional, just adds 5% padding to the autoscaling  \n",
    "langs = set([x[0] for x in groups.groups.keys()]) \n",
    "for name, group in groups:\n",
    "    ax.plot(group.x, group.y,marker='o', linestyle='', ms=6, label=name)\n",
    "    for xy in zip(group.x, group.y):\n",
    "        ax.annotate(name, xy=xy, size=14,textcoords='data')\n",
    "plt.title('CommonVoice data - High-Dimension Model', size=10)\n",
    "plt.suptitle('Language Centroïds projected using MDS')"
   ]
  },
  {
   "cell_type": "markdown",
   "id": "bf2da148",
   "metadata": {},
   "source": [
    "# 3D plot"
   ]
  },
  {
   "cell_type": "code",
   "execution_count": 13,
   "id": "a78432aa",
   "metadata": {},
   "outputs": [],
   "source": [
    "embedding_3D = MDS(n_components=3, max_iter=1000)                                               \n",
    "data_transformed_3D = embedding_3D.fit_transform(data)  \n",
    "df_3D = pd.DataFrame(dict(x=data_transformed_3D[:,0], y=data_transformed_3D[:,1], z=data_transformed_3D[:,2],label=lang_data))                                                                 \n",
    "groups_3D = df_3D.groupby('label') "
   ]
  },
  {
   "cell_type": "code",
   "execution_count": 123,
   "id": "3a817f44",
   "metadata": {},
   "outputs": [
    {
     "name": "stderr",
     "output_type": "stream",
     "text": [
      "/home/maureen/anaconda3/envs/lfe/lib/python3.9/site-packages/mpl_toolkits/mplot3d/art3d.py:100: VisibleDeprecationWarning: Creating an ndarray from ragged nested sequences (which is a list-or-tuple of lists-or-tuples-or ndarrays with different lengths or shapes) is deprecated. If you meant to do this, you must specify 'dtype=object' when creating the ndarray\n",
      "  self._position3d = np.array((x, y, z))\n"
     ]
    },
    {
     "data": {
      "text/plain": [
       "Text(0.5, 0.98, 'Language Centroïds projected using MDS')"
      ]
     },
     "execution_count": 123,
     "metadata": {},
     "output_type": "execute_result"
    },
    {
     "name": "stderr",
     "output_type": "stream",
     "text": [
      "/home/maureen/anaconda3/envs/lfe/lib/python3.9/site-packages/mpl_toolkits/mplot3d/proj3d.py:136: VisibleDeprecationWarning: Creating an ndarray from ragged nested sequences (which is a list-or-tuple of lists-or-tuples-or ndarrays with different lengths or shapes) is deprecated. If you meant to do this, you must specify 'dtype=object' when creating the ndarray\n",
      "  return np.array([xs, ys, zs, np.ones_like(xs)])\n"
     ]
    }
   ],
   "source": [
    "fig, ax = plt.subplots(subplot_kw=dict(projection='3d'))                                                      \n",
    "#ax.margins(0.05) # Optional, just adds 5% padding to the autoscaling  \n",
    "langs = set([x[0] for x in groups_3D.groups.keys()]) \n",
    "for name, group in groups_3D:\n",
    "    ax.scatter3D(group.x, group.y, group.z,  label=name)\n",
    "    ax.text(float(group.x), group.y, group.z, name)\n",
    "#ax.plot3D([float(group.x) for name, group in groups_3D],[float(group.y) for name, group in groups_3D],[float(group.z) for name, group in groups_3D])\n",
    "plt.title('CommonVoice data - High-Dimension Model', size=10)\n",
    "plt.suptitle('Language Centroïds projected using MDS')\n"
   ]
  },
  {
   "cell_type": "code",
   "execution_count": 100,
   "id": "5141fdf5",
   "metadata": {},
   "outputs": [],
   "source": [
    "plt.clf()"
   ]
  },
  {
   "cell_type": "code",
   "execution_count": null,
   "id": "2a86af1d",
   "metadata": {},
   "outputs": [],
   "source": []
  }
 ],
 "metadata": {
  "kernelspec": {
   "display_name": "Python 3",
   "language": "python",
   "name": "python3"
  },
  "language_info": {
   "codemirror_mode": {
    "name": "ipython",
    "version": 3
   },
   "file_extension": ".py",
   "mimetype": "text/x-python",
   "name": "python",
   "nbconvert_exporter": "python",
   "pygments_lexer": "ipython3",
   "version": "3.9.1"
  }
 },
 "nbformat": 4,
 "nbformat_minor": 5
}
